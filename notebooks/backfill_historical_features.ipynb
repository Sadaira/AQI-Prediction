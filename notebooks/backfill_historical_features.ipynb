{
 "cells": [
  {
   "cell_type": "markdown",
   "metadata": {},
   "source": [
    "# Imports"
   ]
  },
  {
   "cell_type": "code",
   "execution_count": 1,
   "metadata": {},
   "outputs": [
    {
     "name": "stderr",
     "output_type": "stream",
     "text": [
      "c:\\Users\\sadai\\Desktop\\AQI-Prediction\\.venv\\lib\\site-packages\\pydantic\\_internal\\_fields.py:192: UserWarning: Field name \"json\" in \"MonitoringDatasetFormat\" shadows an attribute in parent \"Base\"\n",
      "  warnings.warn(\n"
     ]
    },
    {
     "data": {
      "text/html": [
       "<pre style=\"white-space:pre;overflow-x:auto;line-height:normal;font-family:Menlo,'DejaVu Sans Mono',consolas,'Courier New',monospace\"><span style=\"color: #7fbfbf; text-decoration-color: #7fbfbf\">[04/24/25 13:05:27] </span><span style=\"color: #0069ff; text-decoration-color: #0069ff; font-weight: bold\">INFO    </span> Found credentials in shared credentials file: ~<span style=\"color: #e100e1; text-decoration-color: #e100e1\">/.aws/credentials</span>   <a href=\"file://c:\\Users\\sadai\\Desktop\\AQI-Prediction\\.venv\\lib\\site-packages\\botocore\\credentials.py\" target=\"_blank\"><span style=\"color: #7f7f7f; text-decoration-color: #7f7f7f\">credentials.py</span></a><span style=\"color: #7f7f7f; text-decoration-color: #7f7f7f\">:</span><a href=\"file://c:\\Users\\sadai\\Desktop\\AQI-Prediction\\.venv\\lib\\site-packages\\botocore\\credentials.py#1352\" target=\"_blank\"><span style=\"color: #7f7f7f; text-decoration-color: #7f7f7f\">1352</span></a>\n",
       "</pre>\n"
      ],
      "text/plain": [
       "\u001b[2;36m[04/24/25 13:05:27]\u001b[0m\u001b[2;36m \u001b[0m\u001b[1;38;2;0;105;255mINFO    \u001b[0m Found credentials in shared credentials file: ~\u001b[38;2;225;0;225m/.aws/\u001b[0m\u001b[38;2;225;0;225mcredentials\u001b[0m   \u001b]8;id=703805;file://c:\\Users\\sadai\\Desktop\\AQI-Prediction\\.venv\\lib\\site-packages\\botocore\\credentials.py\u001b\\\u001b[2mcredentials.py\u001b[0m\u001b]8;;\u001b\\\u001b[2m:\u001b[0m\u001b]8;id=285809;file://c:\\Users\\sadai\\Desktop\\AQI-Prediction\\.venv\\lib\\site-packages\\botocore\\credentials.py#1352\u001b\\\u001b[2m1352\u001b[0m\u001b]8;;\u001b\\\n"
      ]
     },
     "metadata": {},
     "output_type": "display_data"
    },
    {
     "name": "stdout",
     "output_type": "stream",
     "text": [
      "sagemaker.config INFO - Not applying SDK defaults from location: C:\\ProgramData\\sagemaker\\sagemaker\\config.yaml\n",
      "sagemaker.config INFO - Not applying SDK defaults from location: C:\\Users\\sadai\\AppData\\Local\\sagemaker\\sagemaker\\config.yaml\n"
     ]
    }
   ],
   "source": [
    "from datetime import datetime\n",
    "import numpy as np\n",
    "import os\n",
    "import pandas as pd\n",
    "from pandas import json_normalize\n",
    "from sklearn.model_selection import train_test_split\n",
    "import time\n",
    "from time import gmtime, strftime, sleep\n",
    "from io import StringIO\n",
    "import requests\n",
    "\n",
    "import sagemaker\n",
    "from sagemaker.feature_store.feature_group import FeatureGroup\n",
    "import boto3"
   ]
  },
  {
   "cell_type": "code",
   "execution_count": 2,
   "metadata": {},
   "outputs": [
    {
     "data": {
      "text/plain": [
       "'c:\\\\Users\\\\sadai\\\\Desktop\\\\AQI-Prediction'"
      ]
     },
     "execution_count": 2,
     "metadata": {},
     "output_type": "execute_result"
    }
   ],
   "source": [
    "os.chdir('..')\n",
    "os.getcwd()"
   ]
  },
  {
   "cell_type": "code",
   "execution_count": 4,
   "metadata": {},
   "outputs": [],
   "source": [
    "AQOPEN_API_KEY = '4f3f6e2b1360980aec87f727b4e6d7fb70a6169f'\n",
    "\n",
    "cities = ['los_angeles', 'boston', 'san_francisco', 'shanghai',\n",
    "           'seoul', 'paris', 'london']"
   ]
  },
  {
   "cell_type": "markdown",
   "metadata": {},
   "source": [
    "# Merge Historical Data"
   ]
  },
  {
   "cell_type": "code",
   "execution_count": null,
   "metadata": {},
   "outputs": [],
   "source": [
    "la20 = pd.read_csv('data/raw_data/weather/la_20.csv')\n",
    "la21 = pd.read_csv('data/raw_data/weather/la_21.csv')\n",
    "la22 = pd.read_csv('data/raw_data/weather/la_22.csv')\n",
    "la23 = pd.read_csv('data/raw_data/weather/la_23.csv')\n",
    "la24 = pd.read_csv('data/raw_data/weather/la_24.csv')\n",
    "\n",
    "la_air_quality = pd.read_csv('data/raw_data/air_quality/los_angeles.csv')\n",
    "la_air_quality.columns = la_air_quality.columns.str.strip()\n",
    "la_air_quality['date'] = pd.to_datetime(la_air_quality['date'])#, format='%Y-%m-%d')\n",
    "\n",
    "merged_weather = pd.concat([la20, la21, la22, la23, la24], ignore_index=True)\n",
    "merged_weather.rename(columns={'datetime': 'date'}, inplace=True)\n",
    "merged_weather['date'] = pd.to_datetime(merged_weather['date'], format='%Y-%m-%d')\n",
    "merged_df = pd.merge(merged_weather, la_air_quality, on='date', how='inner')"
   ]
  },
  {
   "cell_type": "code",
   "execution_count": 158,
   "metadata": {},
   "outputs": [
    {
     "data": {
      "text/html": [
       "<div>\n",
       "<style scoped>\n",
       "    .dataframe tbody tr th:only-of-type {\n",
       "        vertical-align: middle;\n",
       "    }\n",
       "\n",
       "    .dataframe tbody tr th {\n",
       "        vertical-align: top;\n",
       "    }\n",
       "\n",
       "    .dataframe thead th {\n",
       "        text-align: right;\n",
       "    }\n",
       "</style>\n",
       "<table border=\"1\" class=\"dataframe\">\n",
       "  <thead>\n",
       "    <tr style=\"text-align: right;\">\n",
       "      <th></th>\n",
       "      <th>date</th>\n",
       "      <th>tempmax</th>\n",
       "      <th>tempmin</th>\n",
       "      <th>temp</th>\n",
       "      <th>feelslikemax</th>\n",
       "      <th>feelslikemin</th>\n",
       "      <th>feelslike</th>\n",
       "      <th>dew</th>\n",
       "      <th>humidity</th>\n",
       "      <th>precip</th>\n",
       "      <th>...</th>\n",
       "      <th>winddir</th>\n",
       "      <th>sealevelpressure</th>\n",
       "      <th>cloudcover</th>\n",
       "      <th>visibility</th>\n",
       "      <th>solarradiation</th>\n",
       "      <th>solarenergy</th>\n",
       "      <th>uvindex</th>\n",
       "      <th>moonphase</th>\n",
       "      <th>conditions</th>\n",
       "      <th>pm25</th>\n",
       "    </tr>\n",
       "  </thead>\n",
       "  <tbody>\n",
       "    <tr>\n",
       "      <th>1</th>\n",
       "      <td>2020-01-02</td>\n",
       "      <td>68.7</td>\n",
       "      <td>51.4</td>\n",
       "      <td>58.7</td>\n",
       "      <td>68.7</td>\n",
       "      <td>51.4</td>\n",
       "      <td>58.7</td>\n",
       "      <td>48.4</td>\n",
       "      <td>69.6</td>\n",
       "      <td>0.0</td>\n",
       "      <td>...</td>\n",
       "      <td>73.4</td>\n",
       "      <td>1014.6</td>\n",
       "      <td>8.8</td>\n",
       "      <td>8.7</td>\n",
       "      <td>121.4</td>\n",
       "      <td>10.4</td>\n",
       "      <td>5</td>\n",
       "      <td>0.25</td>\n",
       "      <td>1</td>\n",
       "      <td>63</td>\n",
       "    </tr>\n",
       "    <tr>\n",
       "      <th>2</th>\n",
       "      <td>2020-01-03</td>\n",
       "      <td>74.2</td>\n",
       "      <td>51.7</td>\n",
       "      <td>61.1</td>\n",
       "      <td>74.2</td>\n",
       "      <td>51.7</td>\n",
       "      <td>61.1</td>\n",
       "      <td>42.0</td>\n",
       "      <td>53.0</td>\n",
       "      <td>0.0</td>\n",
       "      <td>...</td>\n",
       "      <td>305.6</td>\n",
       "      <td>1022.6</td>\n",
       "      <td>2.2</td>\n",
       "      <td>9.8</td>\n",
       "      <td>129.1</td>\n",
       "      <td>11.2</td>\n",
       "      <td>5</td>\n",
       "      <td>0.28</td>\n",
       "      <td>1</td>\n",
       "      <td>63</td>\n",
       "    </tr>\n",
       "    <tr>\n",
       "      <th>3</th>\n",
       "      <td>2020-01-04</td>\n",
       "      <td>70.5</td>\n",
       "      <td>49.6</td>\n",
       "      <td>58.5</td>\n",
       "      <td>70.5</td>\n",
       "      <td>49.6</td>\n",
       "      <td>58.5</td>\n",
       "      <td>45.3</td>\n",
       "      <td>63.6</td>\n",
       "      <td>0.0</td>\n",
       "      <td>...</td>\n",
       "      <td>285.4</td>\n",
       "      <td>1025.9</td>\n",
       "      <td>1.2</td>\n",
       "      <td>8.7</td>\n",
       "      <td>135.5</td>\n",
       "      <td>11.8</td>\n",
       "      <td>5</td>\n",
       "      <td>0.31</td>\n",
       "      <td>1</td>\n",
       "      <td>54</td>\n",
       "    </tr>\n",
       "    <tr>\n",
       "      <th>4</th>\n",
       "      <td>2020-01-05</td>\n",
       "      <td>70.5</td>\n",
       "      <td>48.7</td>\n",
       "      <td>58.1</td>\n",
       "      <td>70.5</td>\n",
       "      <td>48.7</td>\n",
       "      <td>58.1</td>\n",
       "      <td>42.7</td>\n",
       "      <td>59.1</td>\n",
       "      <td>0.0</td>\n",
       "      <td>...</td>\n",
       "      <td>311.2</td>\n",
       "      <td>1024.2</td>\n",
       "      <td>2.2</td>\n",
       "      <td>9.3</td>\n",
       "      <td>136.5</td>\n",
       "      <td>11.6</td>\n",
       "      <td>6</td>\n",
       "      <td>0.34</td>\n",
       "      <td>1</td>\n",
       "      <td>68</td>\n",
       "    </tr>\n",
       "    <tr>\n",
       "      <th>5</th>\n",
       "      <td>2020-01-06</td>\n",
       "      <td>78.3</td>\n",
       "      <td>48.0</td>\n",
       "      <td>62.7</td>\n",
       "      <td>78.3</td>\n",
       "      <td>48.0</td>\n",
       "      <td>62.7</td>\n",
       "      <td>31.0</td>\n",
       "      <td>34.9</td>\n",
       "      <td>0.0</td>\n",
       "      <td>...</td>\n",
       "      <td>11.7</td>\n",
       "      <td>1024.1</td>\n",
       "      <td>0.5</td>\n",
       "      <td>9.9</td>\n",
       "      <td>144.8</td>\n",
       "      <td>12.7</td>\n",
       "      <td>6</td>\n",
       "      <td>0.37</td>\n",
       "      <td>1</td>\n",
       "      <td>62</td>\n",
       "    </tr>\n",
       "  </tbody>\n",
       "</table>\n",
       "<p>5 rows × 26 columns</p>\n",
       "</div>"
      ],
      "text/plain": [
       "        date  tempmax  tempmin  temp  feelslikemax  feelslikemin  feelslike  \\\n",
       "1 2020-01-02     68.7     51.4  58.7          68.7          51.4       58.7   \n",
       "2 2020-01-03     74.2     51.7  61.1          74.2          51.7       61.1   \n",
       "3 2020-01-04     70.5     49.6  58.5          70.5          49.6       58.5   \n",
       "4 2020-01-05     70.5     48.7  58.1          70.5          48.7       58.1   \n",
       "5 2020-01-06     78.3     48.0  62.7          78.3          48.0       62.7   \n",
       "\n",
       "    dew  humidity  precip  ...  winddir  sealevelpressure  cloudcover  \\\n",
       "1  48.4      69.6     0.0  ...     73.4            1014.6         8.8   \n",
       "2  42.0      53.0     0.0  ...    305.6            1022.6         2.2   \n",
       "3  45.3      63.6     0.0  ...    285.4            1025.9         1.2   \n",
       "4  42.7      59.1     0.0  ...    311.2            1024.2         2.2   \n",
       "5  31.0      34.9     0.0  ...     11.7            1024.1         0.5   \n",
       "\n",
       "   visibility  solarradiation  solarenergy  uvindex  moonphase  conditions  \\\n",
       "1         8.7           121.4         10.4        5       0.25           1   \n",
       "2         9.8           129.1         11.2        5       0.28           1   \n",
       "3         8.7           135.5         11.8        5       0.31           1   \n",
       "4         9.3           136.5         11.6        6       0.34           1   \n",
       "5         9.9           144.8         12.7        6       0.37           1   \n",
       "\n",
       "   pm25  \n",
       "1    63  \n",
       "2    63  \n",
       "3    54  \n",
       "4    68  \n",
       "5    62  \n",
       "\n",
       "[5 rows x 26 columns]"
      ]
     },
     "execution_count": 158,
     "metadata": {},
     "output_type": "execute_result"
    }
   ],
   "source": [
    "merged_df.head()"
   ]
  },
  {
   "cell_type": "markdown",
   "metadata": {},
   "source": [
    "# Data Preparation"
   ]
  },
  {
   "cell_type": "code",
   "execution_count": 139,
   "metadata": {},
   "outputs": [],
   "source": [
    "merged_df.drop(columns=['name', 'description', 'icon', 'stations', 'sunrise', 'sunset', 'severerisk', 'preciptype', 'pm10', 'o3', 'no2', 'so2', 'co'], inplace=True)"
   ]
  },
  {
   "cell_type": "code",
   "execution_count": 149,
   "metadata": {},
   "outputs": [
    {
     "data": {
      "text/plain": [
       "date                datetime64[ns]\n",
       "tempmax                    float64\n",
       "tempmin                    float64\n",
       "temp                       float64\n",
       "feelslikemax               float64\n",
       "feelslikemin               float64\n",
       "feelslike                  float64\n",
       "dew                        float64\n",
       "humidity                   float64\n",
       "precip                     float64\n",
       "precipprob                   int64\n",
       "precipcover                float64\n",
       "snow                         int64\n",
       "snowdepth                    int64\n",
       "windgust                   float64\n",
       "windspeed                  float64\n",
       "winddir                    float64\n",
       "sealevelpressure           float64\n",
       "cloudcover                 float64\n",
       "visibility                 float64\n",
       "solarradiation             float64\n",
       "solarenergy                float64\n",
       "uvindex                      int64\n",
       "moonphase                  float64\n",
       "conditions                   int64\n",
       "pm25                         Int64\n",
       "dtype: object"
      ]
     },
     "execution_count": 149,
     "metadata": {},
     "output_type": "execute_result"
    }
   ],
   "source": [
    "merged_df.dtypes"
   ]
  },
  {
   "cell_type": "code",
   "execution_count": null,
   "metadata": {},
   "outputs": [],
   "source": [
    "merged_df['pm25'] = merged_df['pm25'].str.strip()\n",
    "merged_df['pm25'] = merged_df['pm25'].replace(' ', np.nan)\n",
    "\n",
    "merged_df['pm25'] = pd.to_numeric(merged_df['pm25'], errors='coerce')\n",
    "\n",
    "merged_df['pm25'] = merged_df['pm25'].astype('Int64') "
   ]
  },
  {
   "cell_type": "code",
   "execution_count": 152,
   "metadata": {},
   "outputs": [],
   "source": [
    "# merged_df['pm25'].isna().sum()\n",
    "merged_df = merged_df.dropna(subset=['pm25'])"
   ]
  },
  {
   "cell_type": "code",
   "execution_count": 148,
   "metadata": {},
   "outputs": [],
   "source": [
    "merged_df['conditions'].unique()\n",
    "conditions = {'Clear': 1, 'Partially cloudy': 2, 'Rain, Partially cloudy': 3, 'Rain': 4, \n",
    "              'Overcast': 5, 'Rain, Overcast': 6}\n",
    "\n",
    "merged_df['conditions'] = merged_df['conditions'].map(conditions)"
   ]
  },
  {
   "cell_type": "code",
   "execution_count": 3,
   "metadata": {},
   "outputs": [],
   "source": [
    "# merged_df.to_csv('data/processed_data/merged_la_data.csv', index=False)"
   ]
  },
  {
   "cell_type": "markdown",
   "metadata": {},
   "source": [
    "# Add Historical Data to S3"
   ]
  },
  {
   "cell_type": "code",
   "execution_count": 3,
   "metadata": {},
   "outputs": [
    {
     "data": {
      "text/html": [
       "<pre style=\"white-space:pre;overflow-x:auto;line-height:normal;font-family:Menlo,'DejaVu Sans Mono',consolas,'Courier New',monospace\"><span style=\"color: #7fbfbf; text-decoration-color: #7fbfbf\">[04/08/25 10:55:36] </span><span style=\"color: #0069ff; text-decoration-color: #0069ff; font-weight: bold\">INFO    </span> Found credentials in shared credentials file: ~<span style=\"color: #e100e1; text-decoration-color: #e100e1\">/.aws/credentials</span>   <a href=\"file://c:\\Users\\sadai\\Desktop\\AQI-Prediction\\.venv\\lib\\site-packages\\botocore\\credentials.py\" target=\"_blank\"><span style=\"color: #7f7f7f; text-decoration-color: #7f7f7f\">credentials.py</span></a><span style=\"color: #7f7f7f; text-decoration-color: #7f7f7f\">:</span><a href=\"file://c:\\Users\\sadai\\Desktop\\AQI-Prediction\\.venv\\lib\\site-packages\\botocore\\credentials.py#1352\" target=\"_blank\"><span style=\"color: #7f7f7f; text-decoration-color: #7f7f7f\">1352</span></a>\n",
       "</pre>\n"
      ],
      "text/plain": [
       "\u001b[2;36m[04/08/25 10:55:36]\u001b[0m\u001b[2;36m \u001b[0m\u001b[1;38;2;0;105;255mINFO    \u001b[0m Found credentials in shared credentials file: ~\u001b[38;2;225;0;225m/.aws/\u001b[0m\u001b[38;2;225;0;225mcredentials\u001b[0m   \u001b]8;id=556420;file://c:\\Users\\sadai\\Desktop\\AQI-Prediction\\.venv\\lib\\site-packages\\botocore\\credentials.py\u001b\\\u001b[2mcredentials.py\u001b[0m\u001b]8;;\u001b\\\u001b[2m:\u001b[0m\u001b]8;id=725542;file://c:\\Users\\sadai\\Desktop\\AQI-Prediction\\.venv\\lib\\site-packages\\botocore\\credentials.py#1352\u001b\\\u001b[2m1352\u001b[0m\u001b]8;;\u001b\\\n"
      ]
     },
     "metadata": {},
     "output_type": "display_data"
    },
    {
     "data": {
      "text/html": [
       "<pre style=\"white-space:pre;overflow-x:auto;line-height:normal;font-family:Menlo,'DejaVu Sans Mono',consolas,'Courier New',monospace\"><span style=\"color: #7fbfbf; text-decoration-color: #7fbfbf\">[04/08/25 10:55:37] </span><span style=\"color: #0069ff; text-decoration-color: #0069ff; font-weight: bold\">INFO    </span> Found credentials in shared credentials file: ~<span style=\"color: #e100e1; text-decoration-color: #e100e1\">/.aws/credentials</span>   <a href=\"file://c:\\Users\\sadai\\Desktop\\AQI-Prediction\\.venv\\lib\\site-packages\\botocore\\credentials.py\" target=\"_blank\"><span style=\"color: #7f7f7f; text-decoration-color: #7f7f7f\">credentials.py</span></a><span style=\"color: #7f7f7f; text-decoration-color: #7f7f7f\">:</span><a href=\"file://c:\\Users\\sadai\\Desktop\\AQI-Prediction\\.venv\\lib\\site-packages\\botocore\\credentials.py#1352\" target=\"_blank\"><span style=\"color: #7f7f7f; text-decoration-color: #7f7f7f\">1352</span></a>\n",
       "</pre>\n"
      ],
      "text/plain": [
       "\u001b[2;36m[04/08/25 10:55:37]\u001b[0m\u001b[2;36m \u001b[0m\u001b[1;38;2;0;105;255mINFO    \u001b[0m Found credentials in shared credentials file: ~\u001b[38;2;225;0;225m/.aws/\u001b[0m\u001b[38;2;225;0;225mcredentials\u001b[0m   \u001b]8;id=214920;file://c:\\Users\\sadai\\Desktop\\AQI-Prediction\\.venv\\lib\\site-packages\\botocore\\credentials.py\u001b\\\u001b[2mcredentials.py\u001b[0m\u001b]8;;\u001b\\\u001b[2m:\u001b[0m\u001b]8;id=937478;file://c:\\Users\\sadai\\Desktop\\AQI-Prediction\\.venv\\lib\\site-packages\\botocore\\credentials.py#1352\u001b\\\u001b[2m1352\u001b[0m\u001b]8;;\u001b\\\n"
      ]
     },
     "metadata": {},
     "output_type": "display_data"
    }
   ],
   "source": [
    "bucket = sagemaker.Session().default_bucket()\n",
    "prefix = \"air-quality-proj\"\n",
    "\n",
    "s3_client = boto3.client('s3')"
   ]
  },
  {
   "cell_type": "code",
   "execution_count": 243,
   "metadata": {},
   "outputs": [],
   "source": [
    "# # Upload each dataset to S3\n",
    "local_path = 'data/processed_data/merged_la_data.csv'\n",
    "s3_path = f'{prefix}/data/merged_la_data.csv'\n",
    "    \n",
    "s3_client.upload_file(\n",
    "    local_path,\n",
    "    bucket,\n",
    "    s3_path\n",
    ")"
   ]
  },
  {
   "cell_type": "markdown",
   "metadata": {},
   "source": [
    "# Ingest Data into Sagemaker Feature Store"
   ]
  },
  {
   "cell_type": "code",
   "execution_count": 22,
   "metadata": {},
   "outputs": [
    {
     "name": "stdout",
     "output_type": "stream",
     "text": [
      "Feature Group Name: air-quality-features-08-14-56-40\n",
      "Creation Time: 2025-04-08 10:56:50.530000-04:00\n"
     ]
    },
    {
     "data": {
      "text/html": [
       "<pre style=\"white-space:pre;overflow-x:auto;line-height:normal;font-family:Menlo,'DejaVu Sans Mono',consolas,'Courier New',monospace\"><span style=\"color: #ff0000; text-decoration-color: #ff0000\">╭─────────────────────────────── </span><span style=\"color: #ff0000; text-decoration-color: #ff0000; font-weight: bold\">Traceback </span><span style=\"color: #ff7f7f; text-decoration-color: #ff7f7f; font-weight: bold\">(most recent call last)</span><span style=\"color: #ff0000; text-decoration-color: #ff0000\"> ────────────────────────────────╮</span>\n",
       "<span style=\"color: #ff0000; text-decoration-color: #ff0000\">│</span> in <span style=\"color: #00ff00; text-decoration-color: #00ff00\">&lt;module&gt;</span>:<span style=\"color: #0000ff; text-decoration-color: #0000ff\">13</span>                                                                                   <span style=\"color: #ff0000; text-decoration-color: #ff0000\">│</span>\n",
       "<span style=\"color: #ff0000; text-decoration-color: #ff0000\">│</span>                                                                                                  <span style=\"color: #ff0000; text-decoration-color: #ff0000\">│</span>\n",
       "<span style=\"color: #ff0000; text-decoration-color: #ff0000\">│</span>   <span style=\"color: #7f7f7f; text-decoration-color: #7f7f7f\">10 </span><span style=\"color: #0000ff; text-decoration-color: #0000ff\">for</span> feature_group <span style=\"color: #ff00ff; text-decoration-color: #ff00ff\">in</span> response[<span style=\"color: #808000; text-decoration-color: #808000\">'FeatureGroupSummaries'</span>]:                                     <span style=\"color: #ff0000; text-decoration-color: #ff0000\">│</span>\n",
       "<span style=\"color: #ff0000; text-decoration-color: #ff0000\">│</span>   <span style=\"color: #7f7f7f; text-decoration-color: #7f7f7f\">11 </span><span style=\"color: #7f7f7f; text-decoration-color: #7f7f7f\">│   </span><span style=\"color: #00ffff; text-decoration-color: #00ffff\">print</span>(<span style=\"color: #808000; text-decoration-color: #808000\">f\"Feature Group Name: {</span>feature_group[<span style=\"color: #808000; text-decoration-color: #808000\">'FeatureGroupName'</span>]<span style=\"color: #808000; text-decoration-color: #808000\">}\"</span>)                       <span style=\"color: #ff0000; text-decoration-color: #ff0000\">│</span>\n",
       "<span style=\"color: #ff0000; text-decoration-color: #ff0000\">│</span>   <span style=\"color: #7f7f7f; text-decoration-color: #7f7f7f\">12 </span><span style=\"color: #7f7f7f; text-decoration-color: #7f7f7f\">│   </span><span style=\"color: #00ffff; text-decoration-color: #00ffff\">print</span>(<span style=\"color: #808000; text-decoration-color: #808000\">f\"Creation Time: {</span>feature_group[<span style=\"color: #808000; text-decoration-color: #808000\">'CreationTime'</span>]<span style=\"color: #808000; text-decoration-color: #808000\">}\"</span>)                                <span style=\"color: #ff0000; text-decoration-color: #ff0000\">│</span>\n",
       "<span style=\"color: #ff0000; text-decoration-color: #ff0000\">│</span> <span style=\"color: #800000; text-decoration-color: #800000\">❱ </span>13 <span style=\"color: #7f7f7f; text-decoration-color: #7f7f7f\">│   </span><span style=\"color: #00ffff; text-decoration-color: #00ffff\">print</span>(<span style=\"color: #808000; text-decoration-color: #808000\">f\"Status: {</span>feature_group[<span style=\"color: #808000; text-decoration-color: #808000\">'Status'</span>]<span style=\"color: #808000; text-decoration-color: #808000\">}\"</span>)                                             <span style=\"color: #ff0000; text-decoration-color: #ff0000\">│</span>\n",
       "<span style=\"color: #ff0000; text-decoration-color: #ff0000\">│</span>   <span style=\"color: #7f7f7f; text-decoration-color: #7f7f7f\">14 </span><span style=\"color: #7f7f7f; text-decoration-color: #7f7f7f\">│   </span><span style=\"color: #00ffff; text-decoration-color: #00ffff\">print</span>(<span style=\"color: #808000; text-decoration-color: #808000\">\"---\"</span>)                                                                            <span style=\"color: #ff0000; text-decoration-color: #ff0000\">│</span>\n",
       "<span style=\"color: #ff0000; text-decoration-color: #ff0000\">│</span>   <span style=\"color: #7f7f7f; text-decoration-color: #7f7f7f\">15 </span>                                                                                            <span style=\"color: #ff0000; text-decoration-color: #ff0000\">│</span>\n",
       "<span style=\"color: #ff0000; text-decoration-color: #ff0000\">╰──────────────────────────────────────────────────────────────────────────────────────────────────╯</span>\n",
       "<span style=\"color: #ff0000; text-decoration-color: #ff0000; font-weight: bold\">KeyError: </span><span style=\"color: #008700; text-decoration-color: #008700\">'Status'</span>\n",
       "</pre>\n"
      ],
      "text/plain": [
       "\u001b[38;2;255;0;0m╭─\u001b[0m\u001b[38;2;255;0;0m──────────────────────────────\u001b[0m\u001b[38;2;255;0;0m \u001b[0m\u001b[1;38;2;255;0;0mTraceback \u001b[0m\u001b[1;2;38;2;255;0;0m(most recent call last)\u001b[0m\u001b[38;2;255;0;0m \u001b[0m\u001b[38;2;255;0;0m───────────────────────────────\u001b[0m\u001b[38;2;255;0;0m─╮\u001b[0m\n",
       "\u001b[38;2;255;0;0m│\u001b[0m in \u001b[92m<module>\u001b[0m:\u001b[94m13\u001b[0m                                                                                   \u001b[38;2;255;0;0m│\u001b[0m\n",
       "\u001b[38;2;255;0;0m│\u001b[0m                                                                                                  \u001b[38;2;255;0;0m│\u001b[0m\n",
       "\u001b[38;2;255;0;0m│\u001b[0m   \u001b[2m10 \u001b[0m\u001b[94mfor\u001b[0m feature_group \u001b[95min\u001b[0m response[\u001b[33m'\u001b[0m\u001b[33mFeatureGroupSummaries\u001b[0m\u001b[33m'\u001b[0m]:                                     \u001b[38;2;255;0;0m│\u001b[0m\n",
       "\u001b[38;2;255;0;0m│\u001b[0m   \u001b[2m11 \u001b[0m\u001b[2m│   \u001b[0m\u001b[96mprint\u001b[0m(\u001b[33mf\u001b[0m\u001b[33m\"\u001b[0m\u001b[33mFeature Group Name: \u001b[0m\u001b[33m{\u001b[0mfeature_group[\u001b[33m'\u001b[0m\u001b[33mFeatureGroupName\u001b[0m\u001b[33m'\u001b[0m]\u001b[33m}\u001b[0m\u001b[33m\"\u001b[0m)                       \u001b[38;2;255;0;0m│\u001b[0m\n",
       "\u001b[38;2;255;0;0m│\u001b[0m   \u001b[2m12 \u001b[0m\u001b[2m│   \u001b[0m\u001b[96mprint\u001b[0m(\u001b[33mf\u001b[0m\u001b[33m\"\u001b[0m\u001b[33mCreation Time: \u001b[0m\u001b[33m{\u001b[0mfeature_group[\u001b[33m'\u001b[0m\u001b[33mCreationTime\u001b[0m\u001b[33m'\u001b[0m]\u001b[33m}\u001b[0m\u001b[33m\"\u001b[0m)                                \u001b[38;2;255;0;0m│\u001b[0m\n",
       "\u001b[38;2;255;0;0m│\u001b[0m \u001b[31m❱ \u001b[0m13 \u001b[2m│   \u001b[0m\u001b[96mprint\u001b[0m(\u001b[33mf\u001b[0m\u001b[33m\"\u001b[0m\u001b[33mStatus: \u001b[0m\u001b[33m{\u001b[0mfeature_group[\u001b[33m'\u001b[0m\u001b[33mStatus\u001b[0m\u001b[33m'\u001b[0m]\u001b[33m}\u001b[0m\u001b[33m\"\u001b[0m)                                             \u001b[38;2;255;0;0m│\u001b[0m\n",
       "\u001b[38;2;255;0;0m│\u001b[0m   \u001b[2m14 \u001b[0m\u001b[2m│   \u001b[0m\u001b[96mprint\u001b[0m(\u001b[33m\"\u001b[0m\u001b[33m---\u001b[0m\u001b[33m\"\u001b[0m)                                                                            \u001b[38;2;255;0;0m│\u001b[0m\n",
       "\u001b[38;2;255;0;0m│\u001b[0m   \u001b[2m15 \u001b[0m                                                                                            \u001b[38;2;255;0;0m│\u001b[0m\n",
       "\u001b[38;2;255;0;0m╰──────────────────────────────────────────────────────────────────────────────────────────────────╯\u001b[0m\n",
       "\u001b[1;91mKeyError: \u001b[0m\u001b[38;2;0;135;0m'Status'\u001b[0m\n"
      ]
     },
     "metadata": {},
     "output_type": "display_data"
    }
   ],
   "source": [
    "import boto3\n",
    "\n",
    "# Create SageMaker client\n",
    "sagemaker_client = boto3.client('sagemaker')\n",
    "\n",
    "# List all feature groups\n",
    "response = sagemaker_client.list_feature_groups()\n",
    "\n",
    "# Print feature group names\n",
    "for feature_group in response['FeatureGroupSummaries']:\n",
    "    print(f\"Feature Group Name: {feature_group['FeatureGroupName']}\")\n",
    "    print(f\"Creation Time: {feature_group['CreationTime']}\")\n",
    "    print(f\"Status: {feature_group['Status']}\")\n",
    "    print(\"---\")\n"
   ]
  },
  {
   "cell_type": "code",
   "execution_count": 5,
   "metadata": {},
   "outputs": [],
   "source": [
    "sagemaker_session = sagemaker.Session()\n",
    "role = 'arn:aws:iam::784376946367:role/sagemakerRole'"
   ]
  },
  {
   "cell_type": "code",
   "execution_count": 6,
   "metadata": {},
   "outputs": [
    {
     "data": {
      "text/html": [
       "<pre style=\"white-space:pre;overflow-x:auto;line-height:normal;font-family:Menlo,'DejaVu Sans Mono',consolas,'Courier New',monospace\"><span style=\"color: #7fbfbf; text-decoration-color: #7fbfbf\">[04/08/25 10:56:19] </span><span style=\"color: #0069ff; text-decoration-color: #0069ff; font-weight: bold\">INFO    </span> Found credentials in shared credentials file: ~<span style=\"color: #e100e1; text-decoration-color: #e100e1\">/.aws/credentials</span>    <a href=\"file://c:\\Users\\sadai\\Desktop\\AQI-Prediction\\.venv\\lib\\site-packages\\aiobotocore\\credentials.py\" target=\"_blank\"><span style=\"color: #7f7f7f; text-decoration-color: #7f7f7f\">credentials.py</span></a><span style=\"color: #7f7f7f; text-decoration-color: #7f7f7f\">:</span><a href=\"file://c:\\Users\\sadai\\Desktop\\AQI-Prediction\\.venv\\lib\\site-packages\\aiobotocore\\credentials.py#670\" target=\"_blank\"><span style=\"color: #7f7f7f; text-decoration-color: #7f7f7f\">670</span></a>\n",
       "</pre>\n"
      ],
      "text/plain": [
       "\u001b[2;36m[04/08/25 10:56:19]\u001b[0m\u001b[2;36m \u001b[0m\u001b[1;38;2;0;105;255mINFO    \u001b[0m Found credentials in shared credentials file: ~\u001b[38;2;225;0;225m/.aws/\u001b[0m\u001b[38;2;225;0;225mcredentials\u001b[0m    \u001b]8;id=409824;file://c:\\Users\\sadai\\Desktop\\AQI-Prediction\\.venv\\lib\\site-packages\\aiobotocore\\credentials.py\u001b\\\u001b[2mcredentials.py\u001b[0m\u001b]8;;\u001b\\\u001b[2m:\u001b[0m\u001b]8;id=795218;file://c:\\Users\\sadai\\Desktop\\AQI-Prediction\\.venv\\lib\\site-packages\\aiobotocore\\credentials.py#670\u001b\\\u001b[2m670\u001b[0m\u001b]8;;\u001b\\\n"
      ]
     },
     "metadata": {},
     "output_type": "display_data"
    }
   ],
   "source": [
    "import s3fs\n",
    "fs = s3fs.S3FileSystem(anon=False)\n",
    "data = pd.read_csv('s3://sagemaker-us-east-1-784376946367/air-quality-proj/data/merged_la_data.csv')"
   ]
  },
  {
   "cell_type": "code",
   "execution_count": 7,
   "metadata": {},
   "outputs": [],
   "source": [
    "# Helper function to cast object types to string\n",
    "def cast_object_to_string(data_frame):\n",
    "    for label in data_frame.columns:\n",
    "        if data_frame.dtypes[label] == \"object\":\n",
    "            data_frame[label] = data_frame[label].astype(\"str\").astype(\"string\")"
   ]
  },
  {
   "cell_type": "code",
   "execution_count": 18,
   "metadata": {},
   "outputs": [],
   "source": [
    "# Cast object columns to string\n",
    "cast_object_to_string(data)"
   ]
  },
  {
   "cell_type": "code",
   "execution_count": 9,
   "metadata": {},
   "outputs": [],
   "source": [
    "# Handle timestamp - ensure it's float64 type\n",
    "if 'timestamp' not in data.columns:\n",
    "    data['timestamp'] = pd.Series([int(round(time.time()))] * len(data), dtype=\"float64\")\n",
    "# Add record identifier if not present\n",
    "if 'record_id' not in data.columns:\n",
    "    data['record_id'] = data.index.astype(str)"
   ]
  },
  {
   "cell_type": "code",
   "execution_count": 23,
   "metadata": {},
   "outputs": [],
   "source": [
    "feature_group_name ='air-quality-features-08-14-56-40'#\"air-quality-features-\"+ strftime(\"%d-%H-%M-%S\", gmtime())\n",
    "feature_group = FeatureGroup(\n",
    "    name=feature_group_name,\n",
    "    sagemaker_session=sagemaker_session\n",
    ")"
   ]
  },
  {
   "cell_type": "code",
   "execution_count": 24,
   "metadata": {},
   "outputs": [
    {
     "data": {
      "text/plain": [
       "[FeatureDefinition(feature_name='date', feature_type=<FeatureTypeEnum.STRING: 'String'>, collection_type=None),\n",
       " FeatureDefinition(feature_name='tempmax', feature_type=<FeatureTypeEnum.FRACTIONAL: 'Fractional'>, collection_type=None),\n",
       " FeatureDefinition(feature_name='tempmin', feature_type=<FeatureTypeEnum.FRACTIONAL: 'Fractional'>, collection_type=None),\n",
       " FeatureDefinition(feature_name='temp', feature_type=<FeatureTypeEnum.FRACTIONAL: 'Fractional'>, collection_type=None),\n",
       " FeatureDefinition(feature_name='feelslikemax', feature_type=<FeatureTypeEnum.FRACTIONAL: 'Fractional'>, collection_type=None),\n",
       " FeatureDefinition(feature_name='feelslikemin', feature_type=<FeatureTypeEnum.FRACTIONAL: 'Fractional'>, collection_type=None),\n",
       " FeatureDefinition(feature_name='feelslike', feature_type=<FeatureTypeEnum.FRACTIONAL: 'Fractional'>, collection_type=None),\n",
       " FeatureDefinition(feature_name='dew', feature_type=<FeatureTypeEnum.FRACTIONAL: 'Fractional'>, collection_type=None),\n",
       " FeatureDefinition(feature_name='humidity', feature_type=<FeatureTypeEnum.FRACTIONAL: 'Fractional'>, collection_type=None),\n",
       " FeatureDefinition(feature_name='precip', feature_type=<FeatureTypeEnum.FRACTIONAL: 'Fractional'>, collection_type=None),\n",
       " FeatureDefinition(feature_name='precipprob', feature_type=<FeatureTypeEnum.INTEGRAL: 'Integral'>, collection_type=None),\n",
       " FeatureDefinition(feature_name='precipcover', feature_type=<FeatureTypeEnum.FRACTIONAL: 'Fractional'>, collection_type=None),\n",
       " FeatureDefinition(feature_name='snow', feature_type=<FeatureTypeEnum.INTEGRAL: 'Integral'>, collection_type=None),\n",
       " FeatureDefinition(feature_name='snowdepth', feature_type=<FeatureTypeEnum.INTEGRAL: 'Integral'>, collection_type=None),\n",
       " FeatureDefinition(feature_name='windgust', feature_type=<FeatureTypeEnum.FRACTIONAL: 'Fractional'>, collection_type=None),\n",
       " FeatureDefinition(feature_name='windspeed', feature_type=<FeatureTypeEnum.FRACTIONAL: 'Fractional'>, collection_type=None),\n",
       " FeatureDefinition(feature_name='winddir', feature_type=<FeatureTypeEnum.FRACTIONAL: 'Fractional'>, collection_type=None),\n",
       " FeatureDefinition(feature_name='sealevelpressure', feature_type=<FeatureTypeEnum.FRACTIONAL: 'Fractional'>, collection_type=None),\n",
       " FeatureDefinition(feature_name='cloudcover', feature_type=<FeatureTypeEnum.FRACTIONAL: 'Fractional'>, collection_type=None),\n",
       " FeatureDefinition(feature_name='visibility', feature_type=<FeatureTypeEnum.FRACTIONAL: 'Fractional'>, collection_type=None),\n",
       " FeatureDefinition(feature_name='solarradiation', feature_type=<FeatureTypeEnum.FRACTIONAL: 'Fractional'>, collection_type=None),\n",
       " FeatureDefinition(feature_name='solarenergy', feature_type=<FeatureTypeEnum.FRACTIONAL: 'Fractional'>, collection_type=None),\n",
       " FeatureDefinition(feature_name='uvindex', feature_type=<FeatureTypeEnum.INTEGRAL: 'Integral'>, collection_type=None),\n",
       " FeatureDefinition(feature_name='moonphase', feature_type=<FeatureTypeEnum.FRACTIONAL: 'Fractional'>, collection_type=None),\n",
       " FeatureDefinition(feature_name='conditions', feature_type=<FeatureTypeEnum.INTEGRAL: 'Integral'>, collection_type=None),\n",
       " FeatureDefinition(feature_name='pm25', feature_type=<FeatureTypeEnum.INTEGRAL: 'Integral'>, collection_type=None),\n",
       " FeatureDefinition(feature_name='timestamp', feature_type=<FeatureTypeEnum.FRACTIONAL: 'Fractional'>, collection_type=None),\n",
       " FeatureDefinition(feature_name='record_id', feature_type=<FeatureTypeEnum.STRING: 'String'>, collection_type=None)]"
      ]
     },
     "execution_count": 24,
     "metadata": {},
     "output_type": "execute_result"
    }
   ],
   "source": [
    "# Load feature definitions directly from dataframe\n",
    "feature_group.load_feature_definitions(data_frame=data)"
   ]
  },
  {
   "cell_type": "code",
   "execution_count": null,
   "metadata": {},
   "outputs": [],
   "source": [
    "# Create the feature group\n",
    "feature_group.create(\n",
    "    s3_uri=f\"s3://{sagemaker_session.default_bucket()}/air-quality-proj/data/feature_store\",\n",
    "    record_identifier_name=\"record_id\",\n",
    "    event_time_feature_name=\"timestamp\",\n",
    "    role_arn=role,\n",
    "    enable_online_store=True\n",
    ")"
   ]
  },
  {
   "cell_type": "code",
   "execution_count": null,
   "metadata": {},
   "outputs": [],
   "source": [
    "# Wait for feature group to become active\n",
    "status = feature_group.describe().get(\"FeatureGroupStatus\")\n",
    "print(f\"Initial status: {status}\")\n",
    "\n",
    "while status != \"Active\":\n",
    "    print(f\"Waiting for feature group to become active. Current status: {status}\")\n",
    "    time.sleep(5)\n",
    "    status = feature_group.describe().get(\"FeatureGroupStatus\")\n",
    "\n",
    "print(\"Feature group is now active\")"
   ]
  },
  {
   "cell_type": "code",
   "execution_count": 254,
   "metadata": {},
   "outputs": [
    {
     "data": {
      "text/plain": [
       "date                0\n",
       "tempmax             0\n",
       "tempmin             0\n",
       "temp                0\n",
       "feelslikemax        0\n",
       "feelslikemin        0\n",
       "feelslike           0\n",
       "dew                 0\n",
       "humidity            0\n",
       "precip              0\n",
       "precipprob          0\n",
       "precipcover         0\n",
       "snow                0\n",
       "snowdepth           0\n",
       "windgust            0\n",
       "windspeed           0\n",
       "winddir             0\n",
       "sealevelpressure    0\n",
       "cloudcover          0\n",
       "visibility          0\n",
       "solarradiation      0\n",
       "solarenergy         0\n",
       "uvindex             0\n",
       "moonphase           0\n",
       "conditions          0\n",
       "pm25                0\n",
       "timestamp           0\n",
       "record_id           0\n",
       "dtype: int64"
      ]
     },
     "execution_count": 254,
     "metadata": {},
     "output_type": "execute_result"
    }
   ],
   "source": [
    "#check for any nulls before ingesting data\n",
    "data.isna().sum()"
   ]
  },
  {
   "cell_type": "code",
   "execution_count": 27,
   "metadata": {},
   "outputs": [
    {
     "data": {
      "text/html": [
       "<pre style=\"white-space:pre;overflow-x:auto;line-height:normal;font-family:Menlo,'DejaVu Sans Mono',consolas,'Courier New',monospace\"><span style=\"color: #7fbfbf; text-decoration-color: #7fbfbf\">[04/08/25 11:27:08] </span><span style=\"color: #0069ff; text-decoration-color: #0069ff; font-weight: bold\">INFO    </span> Started ingesting index %d to %d                                  <a href=\"file://c:\\Users\\sadai\\Desktop\\AQI-Prediction\\.venv\\lib\\site-packages\\sagemaker\\feature_store\\feature_group.py\" target=\"_blank\"><span style=\"color: #7f7f7f; text-decoration-color: #7f7f7f\">feature_group.py</span></a><span style=\"color: #7f7f7f; text-decoration-color: #7f7f7f\">:</span><a href=\"file://c:\\Users\\sadai\\Desktop\\AQI-Prediction\\.venv\\lib\\site-packages\\sagemaker\\feature_store\\feature_group.py#448\" target=\"_blank\"><span style=\"color: #7f7f7f; text-decoration-color: #7f7f7f\">448</span></a>\n",
       "</pre>\n"
      ],
      "text/plain": [
       "\u001b[2;36m[04/08/25 11:27:08]\u001b[0m\u001b[2;36m \u001b[0m\u001b[1;38;2;0;105;255mINFO    \u001b[0m Started ingesting index %d to %d                                  \u001b]8;id=474420;file://c:\\Users\\sadai\\Desktop\\AQI-Prediction\\.venv\\lib\\site-packages\\sagemaker\\feature_store\\feature_group.py\u001b\\\u001b[2mfeature_group.py\u001b[0m\u001b]8;;\u001b\\\u001b[2m:\u001b[0m\u001b]8;id=784224;file://c:\\Users\\sadai\\Desktop\\AQI-Prediction\\.venv\\lib\\site-packages\\sagemaker\\feature_store\\feature_group.py#448\u001b\\\u001b[2m448\u001b[0m\u001b]8;;\u001b\\\n"
      ]
     },
     "metadata": {},
     "output_type": "display_data"
    },
    {
     "data": {
      "text/plain": [
       "IngestionManagerPandas(feature_group_name='air-quality-features-08-14-56-40', feature_definitions={'date': {'FeatureName': 'date', 'FeatureType': 'String'}, 'tempmax': {'FeatureName': 'tempmax', 'FeatureType': 'Fractional'}, 'tempmin': {'FeatureName': 'tempmin', 'FeatureType': 'Fractional'}, 'temp': {'FeatureName': 'temp', 'FeatureType': 'Fractional'}, 'feelslikemax': {'FeatureName': 'feelslikemax', 'FeatureType': 'Fractional'}, 'feelslikemin': {'FeatureName': 'feelslikemin', 'FeatureType': 'Fractional'}, 'feelslike': {'FeatureName': 'feelslike', 'FeatureType': 'Fractional'}, 'dew': {'FeatureName': 'dew', 'FeatureType': 'Fractional'}, 'humidity': {'FeatureName': 'humidity', 'FeatureType': 'Fractional'}, 'precip': {'FeatureName': 'precip', 'FeatureType': 'Fractional'}, 'precipprob': {'FeatureName': 'precipprob', 'FeatureType': 'Integral'}, 'precipcover': {'FeatureName': 'precipcover', 'FeatureType': 'Fractional'}, 'snow': {'FeatureName': 'snow', 'FeatureType': 'Integral'}, 'snowdepth': {'FeatureName': 'snowdepth', 'FeatureType': 'Integral'}, 'windgust': {'FeatureName': 'windgust', 'FeatureType': 'Fractional'}, 'windspeed': {'FeatureName': 'windspeed', 'FeatureType': 'Fractional'}, 'winddir': {'FeatureName': 'winddir', 'FeatureType': 'Fractional'}, 'sealevelpressure': {'FeatureName': 'sealevelpressure', 'FeatureType': 'Fractional'}, 'cloudcover': {'FeatureName': 'cloudcover', 'FeatureType': 'Fractional'}, 'visibility': {'FeatureName': 'visibility', 'FeatureType': 'Fractional'}, 'solarradiation': {'FeatureName': 'solarradiation', 'FeatureType': 'Fractional'}, 'solarenergy': {'FeatureName': 'solarenergy', 'FeatureType': 'Fractional'}, 'uvindex': {'FeatureName': 'uvindex', 'FeatureType': 'Integral'}, 'moonphase': {'FeatureName': 'moonphase', 'FeatureType': 'Fractional'}, 'conditions': {'FeatureName': 'conditions', 'FeatureType': 'Integral'}, 'pm25': {'FeatureName': 'pm25', 'FeatureType': 'Integral'}, 'timestamp': {'FeatureName': 'timestamp', 'FeatureType': 'Fractional'}, 'record_id': {'FeatureName': 'record_id', 'FeatureType': 'String'}}, sagemaker_fs_runtime_client_config=<botocore.config.Config object at 0x000002320C261780>, sagemaker_session=<sagemaker.session.Session object at 0x000002320AED3220>, max_workers=1, max_processes=1, profile_name=None, _async_result=None, _processing_pool=None, _failed_indices=[])"
      ]
     },
     "execution_count": 27,
     "metadata": {},
     "output_type": "execute_result"
    }
   ],
   "source": [
    "# Ingest the data\n",
    "feature_group.ingest(data_frame=data, wait=True)"
   ]
  },
  {
   "cell_type": "code",
   "execution_count": 33,
   "metadata": {},
   "outputs": [
    {
     "name": "stdout",
     "output_type": "stream",
     "text": [
      "{'FeatureGroupArn': 'arn:aws:sagemaker:us-east-1:784376946367:feature-group/air-quality-features-08-14-56-40', 'FeatureGroupName': 'air-quality-features-08-14-56-40', 'RecordIdentifierFeatureName': 'record_id', 'EventTimeFeatureName': 'timestamp', 'FeatureDefinitions': [{'FeatureName': 'date', 'FeatureType': 'String'}, {'FeatureName': 'tempmax', 'FeatureType': 'Fractional'}, {'FeatureName': 'tempmin', 'FeatureType': 'Fractional'}, {'FeatureName': 'temp', 'FeatureType': 'Fractional'}, {'FeatureName': 'feelslikemax', 'FeatureType': 'Fractional'}, {'FeatureName': 'feelslikemin', 'FeatureType': 'Fractional'}, {'FeatureName': 'feelslike', 'FeatureType': 'Fractional'}, {'FeatureName': 'dew', 'FeatureType': 'Fractional'}, {'FeatureName': 'humidity', 'FeatureType': 'Fractional'}, {'FeatureName': 'precip', 'FeatureType': 'Fractional'}, {'FeatureName': 'precipprob', 'FeatureType': 'Integral'}, {'FeatureName': 'precipcover', 'FeatureType': 'Fractional'}, {'FeatureName': 'snow', 'FeatureType': 'Integral'}, {'FeatureName': 'snowdepth', 'FeatureType': 'Integral'}, {'FeatureName': 'windgust', 'FeatureType': 'Fractional'}, {'FeatureName': 'windspeed', 'FeatureType': 'Fractional'}, {'FeatureName': 'winddir', 'FeatureType': 'Fractional'}, {'FeatureName': 'sealevelpressure', 'FeatureType': 'Fractional'}, {'FeatureName': 'cloudcover', 'FeatureType': 'Fractional'}, {'FeatureName': 'visibility', 'FeatureType': 'Fractional'}, {'FeatureName': 'solarradiation', 'FeatureType': 'Fractional'}, {'FeatureName': 'solarenergy', 'FeatureType': 'Fractional'}, {'FeatureName': 'uvindex', 'FeatureType': 'Integral'}, {'FeatureName': 'moonphase', 'FeatureType': 'Fractional'}, {'FeatureName': 'conditions', 'FeatureType': 'Integral'}, {'FeatureName': 'pm25', 'FeatureType': 'Integral'}, {'FeatureName': 'timestamp', 'FeatureType': 'Fractional'}, {'FeatureName': 'record_id', 'FeatureType': 'String'}], 'CreationTime': datetime.datetime(2025, 4, 8, 10, 56, 50, 530000, tzinfo=tzlocal()), 'OnlineStoreConfig': {'EnableOnlineStore': True}, 'OfflineStoreConfig': {'S3StorageConfig': {'S3Uri': 's3://sagemaker-us-east-1-784376946367/air-quality-proj/data/feature_store', 'ResolvedOutputS3Uri': 's3://sagemaker-us-east-1-784376946367/air-quality-proj/data/feature_store/784376946367/sagemaker/us-east-1/offline-store/air-quality-features-08-14-56-40-1744124210/data'}, 'DisableGlueTableCreation': False, 'DataCatalogConfig': {'TableName': 'air_quality_features_08_14_56_40_1744124210', 'Catalog': 'AwsDataCatalog', 'Database': 'sagemaker_featurestore'}}, 'ThroughputConfig': {'ThroughputMode': 'OnDemand'}, 'RoleArn': 'arn:aws:iam::784376946367:role/sagemakerRole', 'FeatureGroupStatus': 'Created', 'OfflineStoreStatus': {'Status': 'Active'}, 'OnlineStoreTotalSizeBytes': 0, 'ResponseMetadata': {'RequestId': '5eac88b5-e7c3-4969-ae9e-80f824674cf8', 'HTTPStatusCode': 200, 'HTTPHeaders': {'x-amzn-requestid': '5eac88b5-e7c3-4969-ae9e-80f824674cf8', 'content-type': 'application/x-amz-json-1.1', 'content-length': '2647', 'date': 'Tue, 08 Apr 2025 15:57:29 GMT'}, 'RetryAttempts': 0}}\n",
      "None\n"
     ]
    }
   ],
   "source": [
    "# Get detailed status\n",
    "print(feature_group.describe())\n",
    "\n",
    "# If there were ingestion errors, you can check them\n",
    "print(feature_group.describe().get(\"FailureReason\"))\n"
   ]
  },
  {
   "cell_type": "code",
   "execution_count": 6,
   "metadata": {},
   "outputs": [
    {
     "name": "stdout",
     "output_type": "stream",
     "text": [
      "Retrieved record:\n",
      "[{'FeatureName': 'date', 'ValueAsString': '2023-06-13'}, {'FeatureName': 'tempmax', 'ValueAsString': '21.2'}, {'FeatureName': 'tempmin', 'ValueAsString': '16.7'}, {'FeatureName': 'temp', 'ValueAsString': '18.5'}, {'FeatureName': 'feelslikemax', 'ValueAsString': '21.2'}, {'FeatureName': 'feelslikemin', 'ValueAsString': '16.7'}, {'FeatureName': 'feelslike', 'ValueAsString': '18.5'}, {'FeatureName': 'dew', 'ValueAsString': '13.1'}, {'FeatureName': 'humidity', 'ValueAsString': '71.1'}, {'FeatureName': 'precip', 'ValueAsString': '0.0'}, {'FeatureName': 'precipprob', 'ValueAsString': '0'}, {'FeatureName': 'precipcover', 'ValueAsString': '0.0'}, {'FeatureName': 'snow', 'ValueAsString': '0'}, {'FeatureName': 'snowdepth', 'ValueAsString': '0'}, {'FeatureName': 'windgust', 'ValueAsString': '36.0'}, {'FeatureName': 'windspeed', 'ValueAsString': '12.8'}, {'FeatureName': 'winddir', 'ValueAsString': '252.9'}, {'FeatureName': 'sealevelpressure', 'ValueAsString': '1016.4'}, {'FeatureName': 'cloudcover', 'ValueAsString': '70.9'}, {'FeatureName': 'visibility', 'ValueAsString': '16.0'}, {'FeatureName': 'solarradiation', 'ValueAsString': '109.8'}, {'FeatureName': 'solarenergy', 'ValueAsString': '9.6'}, {'FeatureName': 'uvindex', 'ValueAsString': '4'}, {'FeatureName': 'moonphase', 'ValueAsString': '0.84'}, {'FeatureName': 'conditions', 'ValueAsString': '2'}, {'FeatureName': 'pm25', 'ValueAsString': '22'}, {'FeatureName': 'timestamp', 'ValueAsString': '1744124186.0'}, {'FeatureName': 'record_id', 'ValueAsString': '1245'}]\n"
     ]
    }
   ],
   "source": [
    "# Initialize the Feature Store Runtime client\n",
    "featurestore_runtime = boto3.client('sagemaker-featurestore-runtime')\n",
    "\n",
    "# Specify the feature group name and record identifier\n",
    "feature_group_name = 'air-quality-features-08-14-56-40'\n",
    "record_identifier_value = str(1245)  # Convert to string\n",
    "\n",
    "try:\n",
    "    # Get the record\n",
    "    response = featurestore_runtime.get_record(\n",
    "        FeatureGroupName=feature_group_name,\n",
    "        RecordIdentifierValueAsString=record_identifier_value,\n",
    "    )\n",
    "    \n",
    "    # Print the record\n",
    "    print(\"Retrieved record:\")\n",
    "    print(response['Record'])\n",
    "\n",
    "except featurestore_runtime.exceptions.ResourceNotFound:  # Corrected exception name\n",
    "    print(f\"Record with ID {record_identifier_value} not found\")\n",
    "except Exception as e:\n",
    "    print(f\"Error retrieving record: {str(e)}\")"
   ]
  },
  {
   "cell_type": "code",
   "execution_count": 42,
   "metadata": {},
   "outputs": [
    {
     "name": "stdout",
     "output_type": "stream",
     "text": [
      "Existing Feature Groups:\n",
      "Name: air-quality-features-08-14-56-40\n",
      "Creation Time: 2025-04-08 10:56:50.530000-04:00\n",
      "Status: Created\n",
      "---\n"
     ]
    }
   ],
   "source": [
    "# List all feature groups\n",
    "response = sagemaker_client.list_feature_groups()\n",
    "\n",
    "# Print feature group names and creation times\n",
    "print(\"Existing Feature Groups:\")\n",
    "for feature_group in response['FeatureGroupSummaries']:\n",
    "    print(f\"Name: {feature_group['FeatureGroupName']}\")\n",
    "    print(f\"Creation Time: {feature_group['CreationTime']}\")\n",
    "    print(f\"Status: {feature_group['FeatureGroupStatus']}\")  # Changed from 'Status' to 'FeatureGroupStatus'\n",
    "    print(\"---\")\n"
   ]
  },
  {
   "cell_type": "markdown",
   "metadata": {},
   "source": [
    "# Train/Val/Test Split"
   ]
  },
  {
   "cell_type": "code",
   "execution_count": null,
   "metadata": {},
   "outputs": [],
   "source": [
    "train, test = train_test_split(merged_df, test_size=0.2, random_state=33, shuffle=False)\n",
    "train, val = train_test_split(train, test_size=0.25, random_state=33, shuffle=False)"
   ]
  },
  {
   "cell_type": "code",
   "execution_count": 99,
   "metadata": {},
   "outputs": [],
   "source": [
    "# pd.to_csv('data/processed_data/train.csv', index=False)\n",
    "# pd.to_csv('data/processed_data/val.csv', index=False)\n",
    "# pd.to_csv('data/processed_data/test.csv', index=False)"
   ]
  },
  {
   "cell_type": "code",
   "execution_count": 101,
   "metadata": {},
   "outputs": [],
   "source": [
    "# Upload to S3\n",
    "bucket = sagemaker.Session().default_bucket()\n",
    "prefix = \"air-quality-proj\"\n",
    "\n",
    "s3_client = boto3.client('s3')\n"
   ]
  },
  {
   "cell_type": "code",
   "execution_count": 104,
   "metadata": {},
   "outputs": [],
   "source": [
    "# # Upload each dataset to S3\n",
    "# for dataset in ['train', 'validation', 'test']:\n",
    "#     local_path = f'data/processed_data/{dataset}.csv'\n",
    "#     s3_path = f'{prefix}/data/{dataset}.csv'\n",
    "    \n",
    "#     s3_client.upload_file(\n",
    "#         local_path,\n",
    "#         bucket,\n",
    "#         s3_path\n",
    "#     )"
   ]
  },
  {
   "cell_type": "code",
   "execution_count": 6,
   "metadata": {},
   "outputs": [],
   "source": [
    "\n",
    "# # Ensure all columns have the correct data types\n",
    "# merged_data['city'] = merged_data['city'].astype(str)\n",
    "# # merged_data['date'] = merged_data['date'].astype(str)  # Assuming date is stored as string\n",
    "# merged_data['pm25'] = merged_data['pm25'].astype(float)\n",
    "# merged_data['pm10'] = merged_data['pm10'].astype(float)\n",
    "# merged_data['no2'] = merged_data['no2'].astype(float)\n",
    "# merged_data['so2'] = merged_data['so2'].astype(float)\n",
    "# merged_data['co'] = merged_data['co'].astype(float)\n",
    "# merged_data['o3'] = merged_data['o3'].astype(float)"
   ]
  }
 ],
 "metadata": {
  "kernelspec": {
   "display_name": ".venv",
   "language": "python",
   "name": "python3"
  },
  "language_info": {
   "codemirror_mode": {
    "name": "ipython",
    "version": 3
   },
   "file_extension": ".py",
   "mimetype": "text/x-python",
   "name": "python",
   "nbconvert_exporter": "python",
   "pygments_lexer": "ipython3",
   "version": "3.10.6"
  }
 },
 "nbformat": 4,
 "nbformat_minor": 2
}
