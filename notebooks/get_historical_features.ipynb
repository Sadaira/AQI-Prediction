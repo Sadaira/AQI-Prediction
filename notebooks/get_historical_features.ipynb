{
 "cells": [
  {
   "cell_type": "markdown",
   "metadata": {},
   "source": [
    "# Imports"
   ]
  },
  {
   "cell_type": "code",
   "execution_count": 1,
   "metadata": {},
   "outputs": [],
   "source": [
    "import os\n",
    "import numpy as np\n",
    "\n",
    "import requests\n",
    "import pandas as pd\n",
    "from pandas import json_normalize"
   ]
  },
  {
   "cell_type": "code",
   "execution_count": 6,
   "metadata": {},
   "outputs": [],
   "source": [
    "os.getcwd()\n",
    "os.chdir('..')"
   ]
  },
  {
   "cell_type": "code",
   "execution_count": 19,
   "metadata": {},
   "outputs": [],
   "source": [
    "AQOPEN_API_KEY = '4f3f6e2b1360980aec87f727b4e6d7fb70a6169f'\n",
    "\n",
    "cities = ['los_angeles', 'boston', 'san_francisco', 'shanghai',\n",
    "           'seoul', 'paris', 'london']"
   ]
  },
  {
   "cell_type": "markdown",
   "metadata": {},
   "source": [
    "# Merge Historical Data"
   ]
  },
  {
   "cell_type": "code",
   "execution_count": null,
   "metadata": {},
   "outputs": [],
   "source": [
    "# create a single csv w/ all historical data\n",
    "# create functions to add it to feature store\n",
    "# make functions for real time data to go in a script?\n",
    "# create tests?"
   ]
  },
  {
   "cell_type": "code",
   "execution_count": null,
   "metadata": {},
   "outputs": [
    {
     "name": "stdout",
     "output_type": "stream",
     "text": [
      "boston\n",
      "london\n",
      "los angeles\n",
      "paris\n",
      "san francisco\n",
      "seoul\n",
      "shanghai\n"
     ]
    }
   ],
   "source": [
    "merged_data = pd.DataFrame()\n",
    "for f in os.listdir('data/air_quality'):\n",
    "    if f.endswith('.csv'):\n",
    "        city_name = f.replace('_', ' ').split('.')[0]\n",
    "        # print(city_name)\n",
    "        df = pd.read_csv(f'data/air_quality/{f}')\n",
    "        df['city'] = city_name  # Add a new column for the city name\n",
    "        cols = ['date', 'city'] + [col for col in df.columns if col not in ['date', 'city']]\n",
    "        df = df[cols]\n",
    "        merged_data = pd.concat([merged_data, df], ignore_index=True)\n",
    "\n",
    "\n",
    "merged_data.to_csv('data/air_quality/merged_data.csv', index=False)"
   ]
  },
  {
   "cell_type": "markdown",
   "metadata": {},
   "source": [
    "# Add Historical Data to Feature Store"
   ]
  },
  {
   "cell_type": "code",
   "execution_count": 14,
   "metadata": {},
   "outputs": [
    {
     "data": {
      "text/plain": [
       "{'aqi': 53,\n",
       " 'idx': 5724,\n",
       " 'attributions': [{'url': 'http://uk-air.defra.gov.uk/',\n",
       "   'name': 'UK-AIR, air quality information resource - Defra, UK',\n",
       "   'logo': 'UK-Department-for-environment-food-and-rural-affairs.png'},\n",
       "  {'url': 'https://londonair.org.uk/',\n",
       "   'name': \"London Air Quality Network - Environmental Research Group, King's College London\",\n",
       "   'logo': 'UK-London-Kings-College.png'},\n",
       "  {'url': 'https://waqi.info/', 'name': 'World Air Quality Index Project'}],\n",
       " 'city': {'geo': [51.5073509, -0.1277583],\n",
       "  'name': 'London',\n",
       "  'url': 'https://aqicn.org/city/london',\n",
       "  'location': ''},\n",
       " 'dominentpol': 'pm25',\n",
       " 'iaqi': {'co': {'v': 4.6},\n",
       "  'h': {'v': 38.5},\n",
       "  'no2': {'v': 15.6},\n",
       "  'o3': {'v': 16.6},\n",
       "  'p': {'v': 1024.5},\n",
       "  'pm10': {'v': 26},\n",
       "  'pm25': {'v': 53},\n",
       "  'so2': {'v': 1.1},\n",
       "  't': {'v': 9.5},\n",
       "  'w': {'v': 10}},\n",
       " 'time': {'s': '2025-03-18 12:00:00',\n",
       "  'tz': '+00:00',\n",
       "  'v': 1742299200,\n",
       "  'iso': '2025-03-18T12:00:00Z'},\n",
       " 'forecast': {'daily': {'o3': [{'avg': 10,\n",
       "     'day': '2025-03-16',\n",
       "     'max': 17,\n",
       "     'min': 7},\n",
       "    {'avg': 12, 'day': '2025-03-17', 'max': 18, 'min': 8},\n",
       "    {'avg': 9, 'day': '2025-03-18', 'max': 16, 'min': 1},\n",
       "    {'avg': 2, 'day': '2025-03-19', 'max': 15, 'min': 1},\n",
       "    {'avg': 4, 'day': '2025-03-20', 'max': 15, 'min': 1},\n",
       "    {'avg': 8, 'day': '2025-03-21', 'max': 11, 'min': 3},\n",
       "    {'avg': 7, 'day': '2025-03-22', 'max': 12, 'min': 5},\n",
       "    {'avg': 8, 'day': '2025-03-23', 'max': 8, 'min': 8}],\n",
       "   'pm10': [{'avg': 6, 'day': '2025-03-16', 'max': 9, 'min': 3},\n",
       "    {'avg': 8, 'day': '2025-03-17', 'max': 10, 'min': 6},\n",
       "    {'avg': 13, 'day': '2025-03-18', 'max': 18, 'min': 9},\n",
       "    {'avg': 27, 'day': '2025-03-19', 'max': 39, 'min': 18},\n",
       "    {'avg': 27, 'day': '2025-03-20', 'max': 40, 'min': 18},\n",
       "    {'avg': 27, 'day': '2025-03-21', 'max': 45, 'min': 17},\n",
       "    {'avg': 12, 'day': '2025-03-22', 'max': 21, 'min': 6},\n",
       "    {'avg': 7, 'day': '2025-03-23', 'max': 7, 'min': 7}],\n",
       "   'pm25': [{'avg': 14, 'day': '2025-03-16', 'max': 25, 'min': 5},\n",
       "    {'avg': 19, 'day': '2025-03-17', 'max': 34, 'min': 10},\n",
       "    {'avg': 44, 'day': '2025-03-18', 'max': 59, 'min': 28},\n",
       "    {'avg': 77, 'day': '2025-03-19', 'max': 105, 'min': 59},\n",
       "    {'avg': 74, 'day': '2025-03-20', 'max': 108, 'min': 53},\n",
       "    {'avg': 57, 'day': '2025-03-21', 'max': 78, 'min': 44},\n",
       "    {'avg': 36, 'day': '2025-03-22', 'max': 54, 'min': 22},\n",
       "    {'avg': 25, 'day': '2025-03-23', 'max': 25, 'min': 25}],\n",
       "   'uvi': [{'avg': 1, 'day': '2025-03-16', 'max': 2, 'min': 0},\n",
       "    {'avg': 1, 'day': '2025-03-17', 'max': 2, 'min': 0},\n",
       "    {'avg': 1, 'day': '2025-03-18', 'max': 4, 'min': 0},\n",
       "    {'avg': 1, 'day': '2025-03-19', 'max': 3, 'min': 0},\n",
       "    {'avg': 1, 'day': '2025-03-20', 'max': 3, 'min': 0},\n",
       "    {'avg': 1, 'day': '2025-03-21', 'max': 2, 'min': 0},\n",
       "    {'avg': 1, 'day': '2025-03-22', 'max': 3, 'min': 0},\n",
       "    {'avg': 0, 'day': '2025-03-23', 'max': 0, 'min': 0}]}},\n",
       " 'debug': {'sync': '2025-03-18T22:25:42+09:00'}}"
      ]
     },
     "execution_count": 14,
     "metadata": {},
     "output_type": "execute_result"
    }
   ],
   "source": [
    "get_air_json(\"london\", AQOPEN_API_KEY)"
   ]
  },
  {
   "cell_type": "code",
   "execution_count": null,
   "metadata": {},
   "outputs": [],
   "source": []
  },
  {
   "cell_type": "markdown",
   "metadata": {},
   "source": [
    "# Add New Data to Feature Store"
   ]
  },
  {
   "cell_type": "code",
   "execution_count": 13,
   "metadata": {},
   "outputs": [],
   "source": [
    "def get_air_json(city_name, AIR_QUALITY_API_KEY):\n",
    "    return requests.get(f'https://api.waqi.info/feed/{city_name}/?token={AQOPEN_API_KEY}').json()['data']"
   ]
  },
  {
   "cell_type": "code",
   "execution_count": 16,
   "metadata": {},
   "outputs": [],
   "source": [
    "def get_air_quality_data(city_name):\n",
    "    # AIR_QUALITY_API_KEY = os.getenv('AIR_QUALITY_API_KEY')\n",
    "    json = get_air_json(city_name, AQOPEN_API_KEY)\n",
    "    print(json)\n",
    "    iaqi = json['iaqi']\n",
    "    forecast = json['forecast']['daily']\n",
    "    \n",
    "    params = ['pm10', 'pm25', 'no2', 'so2', 'co', 'o3']\n",
    "    for param in params:\n",
    "        if param not in iaqi: # if the parameter is not present in the data, add a column with NaN values\n",
    "            iaqi[param] = {\"v\": np.nan}\n",
    "    return [\n",
    "        city_name,\n",
    "        json['aqi'],                 # AQI\n",
    "        json['time']['s'][:10],      # Date\n",
    "        iaqi['pm25']['v'],\n",
    "        iaqi['pm10']['v'],\n",
    "        iaqi['no2']['v'],\n",
    "        iaqi['so2']['v'],\n",
    "        iaqi['co']['v'],\n",
    "        iaqi['o3']['v']\n",
    "    ]"
   ]
  },
  {
   "cell_type": "code",
   "execution_count": 18,
   "metadata": {},
   "outputs": [
    {
     "name": "stdout",
     "output_type": "stream",
     "text": [
      "{'aqi': 88, 'idx': 4143, 'attributions': [{'url': 'https://sim.csb.gov.tr/Services/AirQuality', 'name': 'Turkey National Air Quality Monitoring Network (Ulusal Hava Kalitesi İzleme Ağı)', 'logo': 'Turkey-TC-cevre-ve-sehircilik-bakanligi.png'}, {'url': 'https://waqi.info/', 'name': 'World Air Quality Index Project'}], 'city': {'geo': [41.014722, 28.954722], 'name': 'Istanbul (Aksaray), Turkey', 'url': 'https://aqicn.org/city/turkey/marmara/istanbul/aksaray', 'location': ''}, 'dominentpol': 'pm25', 'iaqi': {'co': {'v': 4.5}, 'dew': {'v': 5}, 'h': {'v': 51}, 'no2': {'v': 23.7}, 'o3': {'v': 5.2}, 'p': {'v': 1013}, 'pm10': {'v': 64}, 'pm25': {'v': 88}, 'so2': {'v': 2.1}, 't': {'v': 15}, 'w': {'v': 2.3}}, 'time': {'s': '2025-03-14 05:00:00', 'tz': '+03:00', 'v': 1741928400, 'iso': '2025-03-14T05:00:00+03:00'}, 'forecast': {'daily': {'o3': [{'avg': 10, 'day': '2025-03-12', 'max': 18, 'min': 6}, {'avg': 5, 'day': '2025-03-13', 'max': 11, 'min': 1}, {'avg': 8, 'day': '2025-03-14', 'max': 19, 'min': 1}, {'avg': 7, 'day': '2025-03-15', 'max': 14, 'min': 4}, {'avg': 11, 'day': '2025-03-16', 'max': 16, 'min': 5}, {'avg': 6, 'day': '2025-03-17', 'max': 13, 'min': 2}, {'avg': 10, 'day': '2025-03-18', 'max': 13, 'min': 10}], 'pm10': [{'avg': 23, 'day': '2025-03-12', 'max': 26, 'min': 20}, {'avg': 25, 'day': '2025-03-13', 'max': 35, 'min': 15}, {'avg': 24, 'day': '2025-03-14', 'max': 35, 'min': 17}, {'avg': 38, 'day': '2025-03-15', 'max': 51, 'min': 29}, {'avg': 30, 'day': '2025-03-16', 'max': 44, 'min': 21}, {'avg': 36, 'day': '2025-03-17', 'max': 51, 'min': 19}, {'avg': 16, 'day': '2025-03-18', 'max': 16, 'min': 9}], 'pm25': [{'avg': 59, 'day': '2025-03-12', 'max': 66, 'min': 47}, {'avg': 52, 'day': '2025-03-13', 'max': 68, 'min': 36}, {'avg': 59, 'day': '2025-03-14', 'max': 73, 'min': 47}, {'avg': 62, 'day': '2025-03-15', 'max': 70, 'min': 53}, {'avg': 47, 'day': '2025-03-16', 'max': 53, 'min': 43}, {'avg': 71, 'day': '2025-03-17', 'max': 87, 'min': 45}, {'avg': 55, 'day': '2025-03-18', 'max': 55, 'min': 35}], 'uvi': [{'avg': 1, 'day': '2025-03-12', 'max': 4, 'min': 0}, {'avg': 1, 'day': '2025-03-13', 'max': 3, 'min': 0}, {'avg': 1, 'day': '2025-03-14', 'max': 4, 'min': 0}, {'avg': 1, 'day': '2025-03-15', 'max': 4, 'min': 0}, {'avg': 1, 'day': '2025-03-16', 'max': 4, 'min': 0}, {'avg': 1, 'day': '2025-03-17', 'max': 3, 'min': 0}, {'avg': 0, 'day': '2025-03-18', 'max': 1, 'min': 0}]}}, 'debug': {'sync': '2025-03-14T11:17:32+09:00'}}\n"
     ]
    },
    {
     "data": {
      "text/plain": [
       "['istanbul', 88, '2025-03-14', 88, 64, 23.7, 2.1, 4.5, 5.2]"
      ]
     },
     "execution_count": 18,
     "metadata": {},
     "output_type": "execute_result"
    }
   ],
   "source": [
    "get_air_quality_data('istanbul')#, AQOPEN_API_KEY)"
   ]
  },
  {
   "cell_type": "code",
   "execution_count": 69,
   "metadata": {},
   "outputs": [],
   "source": [
    "from datetime import datetime\n",
    "\n",
    "\n",
    "def get_air_quality_df(data):\n",
    "    col_names = [\n",
    "        'city',\n",
    "        'aqi',\n",
    "        'date',\n",
    "        'pm25',\n",
    "        'pm10',\n",
    "        'no2',\n",
    "        'so2',\n",
    "        'co',\n",
    "        'o3'\n",
    "    ]\n",
    "\n",
    "    new_data = pd.DataFrame(\n",
    "        data,\n",
    "        columns=col_names\n",
    "    )\n",
    "    new_data.date = new_data.date.apply(timestamp_2_time)\n",
    "\n",
    "    return new_data\n",
    "\n",
    "def timestamp_2_time(x):\n",
    "    dt_obj = datetime.strptime(str(x), '%Y-%m-%d')\n",
    "    dt_obj = dt_obj.timestamp() * 1000\n",
    "    return int(dt_obj)"
   ]
  },
  {
   "cell_type": "code",
   "execution_count": 70,
   "metadata": {},
   "outputs": [],
   "source": [
    "df = get_air_quality_df([get_air_quality_data(city) for city in cities])"
   ]
  },
  {
   "cell_type": "code",
   "execution_count": 71,
   "metadata": {},
   "outputs": [
    {
     "data": {
      "text/html": [
       "<div>\n",
       "<style scoped>\n",
       "    .dataframe tbody tr th:only-of-type {\n",
       "        vertical-align: middle;\n",
       "    }\n",
       "\n",
       "    .dataframe tbody tr th {\n",
       "        vertical-align: top;\n",
       "    }\n",
       "\n",
       "    .dataframe thead th {\n",
       "        text-align: right;\n",
       "    }\n",
       "</style>\n",
       "<table border=\"1\" class=\"dataframe\">\n",
       "  <thead>\n",
       "    <tr style=\"text-align: right;\">\n",
       "      <th></th>\n",
       "      <th>city</th>\n",
       "      <th>aqi</th>\n",
       "      <th>date</th>\n",
       "      <th>pm25</th>\n",
       "      <th>pm10</th>\n",
       "      <th>no2</th>\n",
       "      <th>so2</th>\n",
       "      <th>co</th>\n",
       "      <th>o3</th>\n",
       "    </tr>\n",
       "  </thead>\n",
       "  <tbody>\n",
       "    <tr>\n",
       "      <th>0</th>\n",
       "      <td>Brooklyn</td>\n",
       "      <td>53</td>\n",
       "      <td>1741924800000</td>\n",
       "      <td>53</td>\n",
       "      <td>NaN</td>\n",
       "      <td>NaN</td>\n",
       "      <td>NaN</td>\n",
       "      <td>NaN</td>\n",
       "      <td>NaN</td>\n",
       "    </tr>\n",
       "    <tr>\n",
       "      <th>1</th>\n",
       "      <td>Honolulu</td>\n",
       "      <td>37</td>\n",
       "      <td>1741924800000</td>\n",
       "      <td>37</td>\n",
       "      <td>24.0</td>\n",
       "      <td>NaN</td>\n",
       "      <td>0.1</td>\n",
       "      <td>0.9</td>\n",
       "      <td>NaN</td>\n",
       "    </tr>\n",
       "    <tr>\n",
       "      <th>2</th>\n",
       "      <td>Boston</td>\n",
       "      <td>31</td>\n",
       "      <td>1741924800000</td>\n",
       "      <td>31</td>\n",
       "      <td>19.0</td>\n",
       "      <td>2.8</td>\n",
       "      <td>0.3</td>\n",
       "      <td>3.4</td>\n",
       "      <td>28.1</td>\n",
       "    </tr>\n",
       "    <tr>\n",
       "      <th>3</th>\n",
       "      <td>Nashville</td>\n",
       "      <td>51</td>\n",
       "      <td>1741924800000</td>\n",
       "      <td>51</td>\n",
       "      <td>35.0</td>\n",
       "      <td>NaN</td>\n",
       "      <td>NaN</td>\n",
       "      <td>NaN</td>\n",
       "      <td>NaN</td>\n",
       "    </tr>\n",
       "    <tr>\n",
       "      <th>4</th>\n",
       "      <td>Seattle</td>\n",
       "      <td>13</td>\n",
       "      <td>1741924800000</td>\n",
       "      <td>13</td>\n",
       "      <td>NaN</td>\n",
       "      <td>12.9</td>\n",
       "      <td>NaN</td>\n",
       "      <td>NaN</td>\n",
       "      <td>NaN</td>\n",
       "    </tr>\n",
       "    <tr>\n",
       "      <th>5</th>\n",
       "      <td>Albuquerque</td>\n",
       "      <td>84</td>\n",
       "      <td>1741924800000</td>\n",
       "      <td>26</td>\n",
       "      <td>84.0</td>\n",
       "      <td>4.7</td>\n",
       "      <td>NaN</td>\n",
       "      <td>1.2</td>\n",
       "      <td>32.8</td>\n",
       "    </tr>\n",
       "    <tr>\n",
       "      <th>6</th>\n",
       "      <td>Denver</td>\n",
       "      <td>17</td>\n",
       "      <td>1741924800000</td>\n",
       "      <td>13</td>\n",
       "      <td>10.0</td>\n",
       "      <td>4.6</td>\n",
       "      <td>0.6</td>\n",
       "      <td>3.2</td>\n",
       "      <td>16.7</td>\n",
       "    </tr>\n",
       "    <tr>\n",
       "      <th>7</th>\n",
       "      <td>Miami</td>\n",
       "      <td>45</td>\n",
       "      <td>1741924800000</td>\n",
       "      <td>45</td>\n",
       "      <td>31.0</td>\n",
       "      <td>NaN</td>\n",
       "      <td>0.3</td>\n",
       "      <td>2.8</td>\n",
       "      <td>13.0</td>\n",
       "    </tr>\n",
       "    <tr>\n",
       "      <th>8</th>\n",
       "      <td>Austin</td>\n",
       "      <td>65</td>\n",
       "      <td>1741924800000</td>\n",
       "      <td>65</td>\n",
       "      <td>NaN</td>\n",
       "      <td>2.2</td>\n",
       "      <td>1.3</td>\n",
       "      <td>NaN</td>\n",
       "      <td>24.1</td>\n",
       "    </tr>\n",
       "    <tr>\n",
       "      <th>9</th>\n",
       "      <td>Atlanta</td>\n",
       "      <td>36</td>\n",
       "      <td>1741924800000</td>\n",
       "      <td>36</td>\n",
       "      <td>NaN</td>\n",
       "      <td>NaN</td>\n",
       "      <td>1.0</td>\n",
       "      <td>NaN</td>\n",
       "      <td>28.9</td>\n",
       "    </tr>\n",
       "    <tr>\n",
       "      <th>10</th>\n",
       "      <td>Charlotte</td>\n",
       "      <td>67</td>\n",
       "      <td>1741924800000</td>\n",
       "      <td>67</td>\n",
       "      <td>NaN</td>\n",
       "      <td>NaN</td>\n",
       "      <td>NaN</td>\n",
       "      <td>NaN</td>\n",
       "      <td>NaN</td>\n",
       "    </tr>\n",
       "  </tbody>\n",
       "</table>\n",
       "</div>"
      ],
      "text/plain": [
       "           city  aqi           date  pm25  pm10   no2  so2   co    o3\n",
       "0      Brooklyn   53  1741924800000    53   NaN   NaN  NaN  NaN   NaN\n",
       "1      Honolulu   37  1741924800000    37  24.0   NaN  0.1  0.9   NaN\n",
       "2        Boston   31  1741924800000    31  19.0   2.8  0.3  3.4  28.1\n",
       "3     Nashville   51  1741924800000    51  35.0   NaN  NaN  NaN   NaN\n",
       "4       Seattle   13  1741924800000    13   NaN  12.9  NaN  NaN   NaN\n",
       "5   Albuquerque   84  1741924800000    26  84.0   4.7  NaN  1.2  32.8\n",
       "6        Denver   17  1741924800000    13  10.0   4.6  0.6  3.2  16.7\n",
       "7         Miami   45  1741924800000    45  31.0   NaN  0.3  2.8  13.0\n",
       "8        Austin   65  1741924800000    65   NaN   2.2  1.3  NaN  24.1\n",
       "9       Atlanta   36  1741924800000    36   NaN   NaN  1.0  NaN  28.9\n",
       "10    Charlotte   67  1741924800000    67   NaN   NaN  NaN  NaN   NaN"
      ]
     },
     "execution_count": 71,
     "metadata": {},
     "output_type": "execute_result"
    }
   ],
   "source": [
    "df"
   ]
  },
  {
   "cell_type": "code",
   "execution_count": 10,
   "metadata": {},
   "outputs": [],
   "source": [
    "# def get_air_json(city_name, AIR_QUALITY_API_KEY):\n",
    "#     return requests.get(f'https://api.waqi.info/feed/{city_name}/?token={AIR_QUALITY_API_KEY}').json()['data']"
   ]
  },
  {
   "cell_type": "markdown",
   "metadata": {},
   "source": [
    "# Backfill Features"
   ]
  },
  {
   "cell_type": "markdown",
   "metadata": {},
   "source": [
    "## Get Archived Data"
   ]
  },
  {
   "cell_type": "code",
   "execution_count": null,
   "metadata": {},
   "outputs": [],
   "source": [
    "# periods = [\"2015H1\", \"2016H1\", \"2017H1\", \"2018H1\", \"2019Q1\", \"2019Q2\", \"2019Q3\", \"2019Q4\", \"2020Q1\", \"2020Q2\", \"2020Q3\", \"2020Q4\", \"2021Q1\", \"2021Q2\", \"2021Q3\", \"2021Q4\", \"2022Q1\", \"2022Q2\", \"2022Q3\", \"2022Q4\", \"2023Q1\", \"2023Q2\", \"2023Q3\", \"2023Q4\"]\n",
    "# url = f\"https://aqicn.org/data-platform/covid19/report/45376-1cdf91e1/{period}\"\n",
    "\n",
    "hist_url = f\"aqicn.org/historical/#city:poland/slaski/katowice--ul-kossutha-6\""
   ]
  },
  {
   "cell_type": "code",
   "execution_count": 96,
   "metadata": {},
   "outputs": [],
   "source": [
    "from io import StringIO\n",
    "def get_archived_data(period, cities):\n",
    "    url = f\"https://aqicn.org/data-platform/covid19/report/45376-1cdf91e1/{period}\"\n",
    "    response = requests.get(url)\n",
    "    if response.status_code == 200:\n",
    "        # Read the CSV data into a DataFrame\n",
    "        csv_data = StringIO(response.text)\n",
    "        df = pd.read_csv(csv_data, delimiter=',', skiprows=4)\n",
    "        # Filter the DataFrame to include only the rows with cities in the list\n",
    "        filtered_df = df[df['City'].isin(cities)]\n",
    "    else:\n",
    "        print(f\"Failed to fetch data. Status code: {response.status_code}\")\n",
    "    return filtered_df"
   ]
  },
  {
   "cell_type": "code",
   "execution_count": null,
   "metadata": {},
   "outputs": [
    {
     "name": "stdout",
     "output_type": "stream",
     "text": [
      "Added 7427 rows from period 2015H1\n",
      "Added 7700 rows from period 2016H1\n",
      "Added 8306 rows from period 2017H1\n",
      "Added 11035 rows from period 2018H1\n",
      "Added 9493 rows from period 2019Q1\n",
      "Added 9776 rows from period 2019Q2\n",
      "Added 10384 rows from period 2019Q3\n",
      "Added 10469 rows from period 2019Q4\n",
      "Added 9429 rows from period 2020Q1\n",
      "Added 10685 rows from period 2020Q2\n",
      "Added 10697 rows from period 2020Q3\n",
      "Added 10714 rows from period 2020Q4\n",
      "Added 10745 rows from period 2021Q1\n",
      "Added 10887 rows from period 2021Q2\n",
      "Added 11042 rows from period 2021Q3\n",
      "Added 10691 rows from period 2021Q4\n"
     ]
    },
    {
     "name": "stderr",
     "output_type": "stream",
     "text": [
      "C:\\Users\\sadai\\AppData\\Local\\Temp\\ipykernel_1920\\3864398301.py:4: FutureWarning: The behavior of DataFrame concatenation with empty or all-NA entries is deprecated. In a future version, this will no longer exclude empty or all-NA columns when determining the result dtypes. To retain the old behavior, exclude the relevant entries before the concat operation.\n",
      "  full_df = pd.concat([full_df, period_df], ignore_index=True)\n"
     ]
    },
    {
     "name": "stdout",
     "output_type": "stream",
     "text": [
      "Added 0 rows from period 2022Q1\n",
      "Added 10795 rows from period 2022Q2\n",
      "Added 10842 rows from period 2022Q3\n",
      "Added 11093 rows from period 2022Q4\n",
      "Added 11118 rows from period 2023Q1\n",
      "Added 11174 rows from period 2023Q2\n",
      "Added 11369 rows from period 2023Q3\n",
      "Added 0 rows from period 2023Q4\n",
      "         Date Country    City Specie count   min   max  median  variance\n",
      "0  2015-05-18      US  Boston     o3   112  17.6  40.8    33.6    186.90\n",
      "1  2015-05-21      US  Boston     o3   117   4.0  40.8    30.4    897.62\n",
      "2  2015-01-09      US  Boston     o3    89   4.8  24.1    16.0    209.27\n",
      "3  2015-02-15      US  Boston     o3   113  14.5  31.2    27.2    138.58\n",
      "4  2015-02-16      US  Boston     o3   105  16.0  32.8    27.2    202.06\n"
     ]
    }
   ],
   "source": [
    "archived_df = pd.DataFrame()\n",
    "for period in periods:\n",
    "    period_df = get_archived_data(period, cities)\n",
    "    archived_df = pd.concat([archived_df, period_df], ignore_index=True)\n",
    "    print(f\"Added {len(period_df)} rows from period {period}\")\n",
    "print(archived_df.head())"
   ]
  },
  {
   "cell_type": "markdown",
   "metadata": {},
   "source": [
    "### Format Data"
   ]
  },
  {
   "cell_type": "code",
   "execution_count": 109,
   "metadata": {},
   "outputs": [
    {
     "data": {
      "text/html": [
       "<div>\n",
       "<style scoped>\n",
       "    .dataframe tbody tr th:only-of-type {\n",
       "        vertical-align: middle;\n",
       "    }\n",
       "\n",
       "    .dataframe tbody tr th {\n",
       "        vertical-align: top;\n",
       "    }\n",
       "\n",
       "    .dataframe thead th {\n",
       "        text-align: right;\n",
       "    }\n",
       "</style>\n",
       "<table border=\"1\" class=\"dataframe\">\n",
       "  <thead>\n",
       "    <tr style=\"text-align: right;\">\n",
       "      <th></th>\n",
       "      <th>Date</th>\n",
       "      <th>Country</th>\n",
       "      <th>City</th>\n",
       "      <th>Specie</th>\n",
       "      <th>count</th>\n",
       "      <th>min</th>\n",
       "      <th>max</th>\n",
       "      <th>median</th>\n",
       "      <th>variance</th>\n",
       "    </tr>\n",
       "  </thead>\n",
       "  <tbody>\n",
       "    <tr>\n",
       "      <th>0</th>\n",
       "      <td>2015-05-18</td>\n",
       "      <td>US</td>\n",
       "      <td>Boston</td>\n",
       "      <td>o3</td>\n",
       "      <td>112</td>\n",
       "      <td>17.6</td>\n",
       "      <td>40.8</td>\n",
       "      <td>33.6</td>\n",
       "      <td>186.90</td>\n",
       "    </tr>\n",
       "    <tr>\n",
       "      <th>1</th>\n",
       "      <td>2015-05-21</td>\n",
       "      <td>US</td>\n",
       "      <td>Boston</td>\n",
       "      <td>o3</td>\n",
       "      <td>117</td>\n",
       "      <td>4.0</td>\n",
       "      <td>40.8</td>\n",
       "      <td>30.4</td>\n",
       "      <td>897.62</td>\n",
       "    </tr>\n",
       "    <tr>\n",
       "      <th>2</th>\n",
       "      <td>2015-01-09</td>\n",
       "      <td>US</td>\n",
       "      <td>Boston</td>\n",
       "      <td>o3</td>\n",
       "      <td>89</td>\n",
       "      <td>4.8</td>\n",
       "      <td>24.1</td>\n",
       "      <td>16.0</td>\n",
       "      <td>209.27</td>\n",
       "    </tr>\n",
       "    <tr>\n",
       "      <th>3</th>\n",
       "      <td>2015-02-15</td>\n",
       "      <td>US</td>\n",
       "      <td>Boston</td>\n",
       "      <td>o3</td>\n",
       "      <td>113</td>\n",
       "      <td>14.5</td>\n",
       "      <td>31.2</td>\n",
       "      <td>27.2</td>\n",
       "      <td>138.58</td>\n",
       "    </tr>\n",
       "    <tr>\n",
       "      <th>4</th>\n",
       "      <td>2015-02-16</td>\n",
       "      <td>US</td>\n",
       "      <td>Boston</td>\n",
       "      <td>o3</td>\n",
       "      <td>105</td>\n",
       "      <td>16.0</td>\n",
       "      <td>32.8</td>\n",
       "      <td>27.2</td>\n",
       "      <td>202.06</td>\n",
       "    </tr>\n",
       "  </tbody>\n",
       "</table>\n",
       "</div>"
      ],
      "text/plain": [
       "         Date Country    City Specie count   min   max  median  variance\n",
       "0  2015-05-18      US  Boston     o3   112  17.6  40.8    33.6    186.90\n",
       "1  2015-05-21      US  Boston     o3   117   4.0  40.8    30.4    897.62\n",
       "2  2015-01-09      US  Boston     o3    89   4.8  24.1    16.0    209.27\n",
       "3  2015-02-15      US  Boston     o3   113  14.5  31.2    27.2    138.58\n",
       "4  2015-02-16      US  Boston     o3   105  16.0  32.8    27.2    202.06"
      ]
     },
     "execution_count": 109,
     "metadata": {},
     "output_type": "execute_result"
    }
   ],
   "source": [
    "full_df.head()"
   ]
  },
  {
   "cell_type": "code",
   "execution_count": 107,
   "metadata": {},
   "outputs": [],
   "source": [
    "# Pivot the DataFrame to get the desired format\n",
    "pivot_df = full_df.pivot_table(index='Date', columns='Specie', values='median', aggfunc='first').reset_index()\n"
   ]
  },
  {
   "cell_type": "code",
   "execution_count": 108,
   "metadata": {},
   "outputs": [
    {
     "data": {
      "text/html": [
       "<div>\n",
       "<style scoped>\n",
       "    .dataframe tbody tr th:only-of-type {\n",
       "        vertical-align: middle;\n",
       "    }\n",
       "\n",
       "    .dataframe tbody tr th {\n",
       "        vertical-align: top;\n",
       "    }\n",
       "\n",
       "    .dataframe thead th {\n",
       "        text-align: right;\n",
       "    }\n",
       "</style>\n",
       "<table border=\"1\" class=\"dataframe\">\n",
       "  <thead>\n",
       "    <tr style=\"text-align: right;\">\n",
       "      <th>Specie</th>\n",
       "      <th>Date</th>\n",
       "      <th>co</th>\n",
       "      <th>dew</th>\n",
       "      <th>humidity</th>\n",
       "      <th>no2</th>\n",
       "      <th>o3</th>\n",
       "      <th>pm10</th>\n",
       "      <th>pm25</th>\n",
       "      <th>precipitation</th>\n",
       "      <th>pressure</th>\n",
       "      <th>so2</th>\n",
       "      <th>temperature</th>\n",
       "      <th>wd</th>\n",
       "      <th>wind gust</th>\n",
       "      <th>wind speed</th>\n",
       "      <th>wind-gust</th>\n",
       "      <th>wind-speed</th>\n",
       "    </tr>\n",
       "  </thead>\n",
       "  <tbody>\n",
       "    <tr>\n",
       "      <th>0</th>\n",
       "      <td>2014-12-29</td>\n",
       "      <td>6.7</td>\n",
       "      <td>NaN</td>\n",
       "      <td>NaN</td>\n",
       "      <td>8.8</td>\n",
       "      <td>19.2</td>\n",
       "      <td>21.0</td>\n",
       "      <td>15.0</td>\n",
       "      <td>NaN</td>\n",
       "      <td>NaN</td>\n",
       "      <td>0.9</td>\n",
       "      <td>NaN</td>\n",
       "      <td>NaN</td>\n",
       "      <td>NaN</td>\n",
       "      <td>NaN</td>\n",
       "      <td>NaN</td>\n",
       "      <td>NaN</td>\n",
       "    </tr>\n",
       "    <tr>\n",
       "      <th>1</th>\n",
       "      <td>2014-12-30</td>\n",
       "      <td>6.7</td>\n",
       "      <td>NaN</td>\n",
       "      <td>NaN</td>\n",
       "      <td>6.0</td>\n",
       "      <td>20.8</td>\n",
       "      <td>20.0</td>\n",
       "      <td>21.0</td>\n",
       "      <td>NaN</td>\n",
       "      <td>NaN</td>\n",
       "      <td>0.5</td>\n",
       "      <td>NaN</td>\n",
       "      <td>NaN</td>\n",
       "      <td>NaN</td>\n",
       "      <td>NaN</td>\n",
       "      <td>NaN</td>\n",
       "      <td>NaN</td>\n",
       "    </tr>\n",
       "    <tr>\n",
       "      <th>2</th>\n",
       "      <td>2014-12-31</td>\n",
       "      <td>5.6</td>\n",
       "      <td>NaN</td>\n",
       "      <td>NaN</td>\n",
       "      <td>4.7</td>\n",
       "      <td>17.6</td>\n",
       "      <td>20.0</td>\n",
       "      <td>31.0</td>\n",
       "      <td>NaN</td>\n",
       "      <td>NaN</td>\n",
       "      <td>0.9</td>\n",
       "      <td>NaN</td>\n",
       "      <td>NaN</td>\n",
       "      <td>NaN</td>\n",
       "      <td>NaN</td>\n",
       "      <td>NaN</td>\n",
       "      <td>NaN</td>\n",
       "    </tr>\n",
       "    <tr>\n",
       "      <th>3</th>\n",
       "      <td>2015-01-01</td>\n",
       "      <td>5.6</td>\n",
       "      <td>NaN</td>\n",
       "      <td>NaN</td>\n",
       "      <td>6.4</td>\n",
       "      <td>19.2</td>\n",
       "      <td>15.0</td>\n",
       "      <td>41.0</td>\n",
       "      <td>NaN</td>\n",
       "      <td>NaN</td>\n",
       "      <td>0.8</td>\n",
       "      <td>NaN</td>\n",
       "      <td>NaN</td>\n",
       "      <td>NaN</td>\n",
       "      <td>NaN</td>\n",
       "      <td>NaN</td>\n",
       "      <td>NaN</td>\n",
       "    </tr>\n",
       "    <tr>\n",
       "      <th>4</th>\n",
       "      <td>2015-01-02</td>\n",
       "      <td>6.7</td>\n",
       "      <td>NaN</td>\n",
       "      <td>NaN</td>\n",
       "      <td>6.6</td>\n",
       "      <td>20.0</td>\n",
       "      <td>15.0</td>\n",
       "      <td>37.0</td>\n",
       "      <td>NaN</td>\n",
       "      <td>NaN</td>\n",
       "      <td>0.8</td>\n",
       "      <td>NaN</td>\n",
       "      <td>NaN</td>\n",
       "      <td>NaN</td>\n",
       "      <td>NaN</td>\n",
       "      <td>NaN</td>\n",
       "      <td>NaN</td>\n",
       "    </tr>\n",
       "  </tbody>\n",
       "</table>\n",
       "</div>"
      ],
      "text/plain": [
       "Specie        Date   co  dew  humidity  no2    o3  pm10  pm25  precipitation  \\\n",
       "0       2014-12-29  6.7  NaN       NaN  8.8  19.2  21.0  15.0            NaN   \n",
       "1       2014-12-30  6.7  NaN       NaN  6.0  20.8  20.0  21.0            NaN   \n",
       "2       2014-12-31  5.6  NaN       NaN  4.7  17.6  20.0  31.0            NaN   \n",
       "3       2015-01-01  5.6  NaN       NaN  6.4  19.2  15.0  41.0            NaN   \n",
       "4       2015-01-02  6.7  NaN       NaN  6.6  20.0  15.0  37.0            NaN   \n",
       "\n",
       "Specie  pressure  so2  temperature  wd  wind gust  wind speed  wind-gust  \\\n",
       "0            NaN  0.9          NaN NaN        NaN         NaN        NaN   \n",
       "1            NaN  0.5          NaN NaN        NaN         NaN        NaN   \n",
       "2            NaN  0.9          NaN NaN        NaN         NaN        NaN   \n",
       "3            NaN  0.8          NaN NaN        NaN         NaN        NaN   \n",
       "4            NaN  0.8          NaN NaN        NaN         NaN        NaN   \n",
       "\n",
       "Specie  wind-speed  \n",
       "0              NaN  \n",
       "1              NaN  \n",
       "2              NaN  \n",
       "3              NaN  \n",
       "4              NaN  "
      ]
     },
     "execution_count": 108,
     "metadata": {},
     "output_type": "execute_result"
    }
   ],
   "source": [
    "pivot_df.head()"
   ]
  },
  {
   "cell_type": "code",
   "execution_count": 94,
   "metadata": {},
   "outputs": [
    {
     "name": "stdout",
     "output_type": "stream",
     "text": [
      "{'aqi': 31, 'idx': 5573, 'attributions': [{'url': 'https://soramame.env.go.jp/', 'name': 'Japan Atmospheric Environmental Regional Observation System (環境省大気汚染物質広域監視システム)', 'logo': 'Japan-Soramame.png'}, {'url': 'https://www.kankyo.metro.tokyo.lg.jp/', 'name': 'Tokyo, Japan Environment Agency (東京都環境局)', 'logo': 'Japan-Tokyo.png'}, {'url': 'https://waqi.info/', 'name': 'World Air Quality Index Project'}], 'city': {'geo': [35.6414629, 139.6981712], 'name': 'Meguro (目黒)', 'url': 'https://aqicn.org/city/meguro', 'location': ''}, 'dominentpol': 'o3', 'iaqi': {'co': {'v': 4.5}, 'h': {'v': 28.2}, 'no2': {'v': 28.8}, 'o3': {'v': 31.2}, 'p': {'v': 1018.3}, 'pm10': {'v': 14}, 'pm25': {'v': 1}, 'r': {'v': 99}, 'so2': {'v': 1.5}, 't': {'v': 9.9}, 'w': {'v': 3}}, 'time': {'s': '2025-03-14 08:00:00', 'tz': '+09:00', 'v': 1741939200, 'iso': '2025-03-14T08:00:00+09:00'}, 'forecast': {'daily': {'o3': [{'avg': 3, 'day': '2025-03-12', 'max': 10, 'min': 1}, {'avg': 4, 'day': '2025-03-13', 'max': 10, 'min': 1}, {'avg': 9, 'day': '2025-03-14', 'max': 15, 'min': 2}, {'avg': 13, 'day': '2025-03-15', 'max': 17, 'min': 9}, {'avg': 11, 'day': '2025-03-16', 'max': 16, 'min': 7}, {'avg': 11, 'day': '2025-03-17', 'max': 22, 'min': 1}, {'avg': 8, 'day': '2025-03-18', 'max': 18, 'min': 2}, {'avg': 13, 'day': '2025-03-19', 'max': 15, 'min': 12}], 'pm10': [{'avg': 29, 'day': '2025-03-13', 'max': 47, 'min': 21}, {'avg': 19, 'day': '2025-03-14', 'max': 20, 'min': 19}, {'avg': 21, 'day': '2025-03-15', 'max': 24, 'min': 19}, {'avg': 23, 'day': '2025-03-16', 'max': 33, 'min': 15}, {'avg': 12, 'day': '2025-03-17', 'max': 19, 'min': 6}, {'avg': 18, 'day': '2025-03-18', 'max': 19, 'min': 15}, {'avg': 9, 'day': '2025-03-19', 'max': 19, 'min': 1}, {'avg': 12, 'day': '2025-03-20', 'max': 19, 'min': 5}], 'pm25': [{'avg': 79, 'day': '2025-03-13', 'max': 114, 'min': 67}, {'avg': 62, 'day': '2025-03-14', 'max': 68, 'min': 57}, {'avg': 55, 'day': '2025-03-15', 'max': 68, 'min': 42}, {'avg': 69, 'day': '2025-03-16', 'max': 91, 'min': 42}, {'avg': 29, 'day': '2025-03-17', 'max': 68, 'min': 17}, {'avg': 53, 'day': '2025-03-18', 'max': 58, 'min': 37}, {'avg': 42, 'day': '2025-03-19', 'max': 68, 'min': 13}, {'avg': 47, 'day': '2025-03-20', 'max': 58, 'min': 26}], 'uvi': [{'avg': 0, 'day': '2025-03-13', 'max': 0, 'min': 0}, {'avg': 2, 'day': '2025-03-14', 'max': 5, 'min': 0}, {'avg': 1, 'day': '2025-03-15', 'max': 3, 'min': 0}, {'avg': 0, 'day': '2025-03-16', 'max': 1, 'min': 0}, {'avg': 1, 'day': '2025-03-17', 'max': 5, 'min': 0}, {'avg': 1, 'day': '2025-03-18', 'max': 4, 'min': 0}]}}, 'debug': {'sync': '2025-03-14T08:45:36+09:00'}} \n",
      "\n"
     ]
    }
   ],
   "source": [
    "for city in cities:\n",
    "    print(get_air_json(city, AQOPEN_API_KEY), '\\n')"
   ]
  },
  {
   "cell_type": "code",
   "execution_count": 17,
   "metadata": {},
   "outputs": [],
   "source": [
    "r = requests.get(f\"http://api.waqi.info/feed/{cities[4]}/?token={AQOPEN_API_KEY}\")"
   ]
  },
  {
   "cell_type": "code",
   "execution_count": 18,
   "metadata": {},
   "outputs": [
    {
     "data": {
      "text/plain": [
       "{'co': {'v': 3.6},\n",
       " 'h': {'v': 57},\n",
       " 'no2': {'v': 11.5},\n",
       " 'o3': {'v': 24.3},\n",
       " 'p': {'v': 1013.6},\n",
       " 'pm10': {'v': 12},\n",
       " 'pm25': {'v': 30},\n",
       " 'so2': {'v': 0.7},\n",
       " 't': {'v': 7.6},\n",
       " 'w': {'v': 4.3}}"
      ]
     },
     "execution_count": 18,
     "metadata": {},
     "output_type": "execute_result"
    }
   ],
   "source": [
    "r.json()['data']['iaqi']"
   ]
  },
  {
   "cell_type": "code",
   "execution_count": 90,
   "metadata": {},
   "outputs": [],
   "source": [
    "r = requests.get(f\"http://api.waqi.info//feed/geo:32.4069;-86.2564/?token={AQOPEN_API_KEY}\")"
   ]
  },
  {
   "cell_type": "code",
   "execution_count": null,
   "metadata": {},
   "outputs": [],
   "source": [
    "df = json_normalize(r.json()['data']['forecast']['daily'])   \n",
    "df\n"
   ]
  },
  {
   "cell_type": "markdown",
   "metadata": {},
   "source": [
    "# Get Today's Features"
   ]
  },
  {
   "cell_type": "code",
   "execution_count": null,
   "metadata": {},
   "outputs": [],
   "source": []
  }
 ],
 "metadata": {
  "kernelspec": {
   "display_name": ".venv",
   "language": "python",
   "name": "python3"
  },
  "language_info": {
   "codemirror_mode": {
    "name": "ipython",
    "version": 3
   },
   "file_extension": ".py",
   "mimetype": "text/x-python",
   "name": "python",
   "nbconvert_exporter": "python",
   "pygments_lexer": "ipython3",
   "version": "3.10.6"
  }
 },
 "nbformat": 4,
 "nbformat_minor": 2
}
