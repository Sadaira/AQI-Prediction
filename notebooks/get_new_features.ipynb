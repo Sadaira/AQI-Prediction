{
 "cells": [
  {
   "cell_type": "markdown",
   "metadata": {},
   "source": [
    "# Imports"
   ]
  },
  {
   "cell_type": "code",
   "execution_count": 3,
   "metadata": {},
   "outputs": [
    {
     "name": "stderr",
     "output_type": "stream",
     "text": [
      "c:\\Users\\sadai\\Desktop\\AQI-Prediction\\.venv\\lib\\site-packages\\pydantic\\_internal\\_fields.py:192: UserWarning: Field name \"json\" in \"MonitoringDatasetFormat\" shadows an attribute in parent \"Base\"\n",
      "  warnings.warn(\n"
     ]
    },
    {
     "data": {
      "text/html": [
       "<pre style=\"white-space:pre;overflow-x:auto;line-height:normal;font-family:Menlo,'DejaVu Sans Mono',consolas,'Courier New',monospace\"><span style=\"color: #7fbfbf; text-decoration-color: #7fbfbf\">[04/01/25 09:12:46] </span><span style=\"color: #0069ff; text-decoration-color: #0069ff; font-weight: bold\">INFO    </span> Found credentials in shared credentials file: ~<span style=\"color: #e100e1; text-decoration-color: #e100e1\">/.aws/credentials</span>   <a href=\"file://c:\\Users\\sadai\\Desktop\\AQI-Prediction\\.venv\\lib\\site-packages\\botocore\\credentials.py\" target=\"_blank\"><span style=\"color: #7f7f7f; text-decoration-color: #7f7f7f\">credentials.py</span></a><span style=\"color: #7f7f7f; text-decoration-color: #7f7f7f\">:</span><a href=\"file://c:\\Users\\sadai\\Desktop\\AQI-Prediction\\.venv\\lib\\site-packages\\botocore\\credentials.py#1352\" target=\"_blank\"><span style=\"color: #7f7f7f; text-decoration-color: #7f7f7f\">1352</span></a>\n",
       "</pre>\n"
      ],
      "text/plain": [
       "\u001b[2;36m[04/01/25 09:12:46]\u001b[0m\u001b[2;36m \u001b[0m\u001b[1;38;2;0;105;255mINFO    \u001b[0m Found credentials in shared credentials file: ~\u001b[38;2;225;0;225m/.aws/\u001b[0m\u001b[38;2;225;0;225mcredentials\u001b[0m   \u001b]8;id=776638;file://c:\\Users\\sadai\\Desktop\\AQI-Prediction\\.venv\\lib\\site-packages\\botocore\\credentials.py\u001b\\\u001b[2mcredentials.py\u001b[0m\u001b]8;;\u001b\\\u001b[2m:\u001b[0m\u001b]8;id=654166;file://c:\\Users\\sadai\\Desktop\\AQI-Prediction\\.venv\\lib\\site-packages\\botocore\\credentials.py#1352\u001b\\\u001b[2m1352\u001b[0m\u001b]8;;\u001b\\\n"
      ]
     },
     "metadata": {},
     "output_type": "display_data"
    },
    {
     "name": "stdout",
     "output_type": "stream",
     "text": [
      "sagemaker.config INFO - Not applying SDK defaults from location: C:\\ProgramData\\sagemaker\\sagemaker\\config.yaml\n",
      "sagemaker.config INFO - Not applying SDK defaults from location: C:\\Users\\sadai\\AppData\\Local\\sagemaker\\sagemaker\\config.yaml\n"
     ]
    }
   ],
   "source": [
    "from datetime import datetime\n",
    "import numpy as np\n",
    "import os\n",
    "import pandas as pd\n",
    "from pandas import json_normalize\n",
    "import requests\n",
    "\n",
    "import sagemaker\n",
    "import boto3"
   ]
  },
  {
   "cell_type": "code",
   "execution_count": 2,
   "metadata": {},
   "outputs": [],
   "source": [
    "os.getcwd()\n",
    "os.chdir('..')"
   ]
  },
  {
   "cell_type": "code",
   "execution_count": null,
   "metadata": {},
   "outputs": [],
   "source": [
    "AQOPEN_API_KEY = '4f3f6e2b1360980aec87f727b4e6d7fb70a6169f'\n",
    "VC_API_KEY = '7KJHSXG9NPA2TPE8VP52NTSPB'\n",
    "# NOAA_API_KEY = 'CJGzZBJwzthMqlQrKeMtLSFKfPsSEAwV'\n",
    "AIRNOW_API_KEY = '58262ECA-A85F-4DAE-AED4-5C910AE35DDF'\n",
    "\n",
    "cities = ['los_angeles', 'boston', 'san_francisco', 'shanghai',\n",
    "           'seoul', 'paris', 'london']"
   ]
  },
  {
   "cell_type": "markdown",
   "metadata": {},
   "source": [
    "# Add New Data to Feature Store"
   ]
  },
  {
   "cell_type": "code",
   "execution_count": null,
   "metadata": {},
   "outputs": [
    {
     "data": {
      "text/plain": [
       "{'date': '2025-03-22T00-0000',\n",
       " 'ReportingArea': 'New York City Region',\n",
       " 'StateCode': 'NY',\n",
       " 'Latitude': 40.8419,\n",
       " 'Longitude': -73.8359,\n",
       " 'pm25_aqi': 39,\n",
       " 'category': 1,\n",
       " 'category_name': 'Good'}"
      ]
     },
     "metadata": {},
     "output_type": "display_data"
    }
   ],
   "source": [
    "\n",
    "def get_daily_aqi(zip_code, date, distance=25):\n",
    "    base_url = \"https://www.airnowapi.org/aq/observation/zipCode/historical/\"\n",
    "    \n",
    "    params = {\n",
    "        'format': 'application/json',\n",
    "        'zipCode': zip_code,\n",
    "        'date': date,\n",
    "        'distance': distance,\n",
    "        'API_KEY': AIRNOW_API_KEY\n",
    "    }\n",
    "    # response = requests.get(base_url, params=params)\n",
    "    # pm25_data = next((item for item in response.json() if item.get('ParameterName') == 'PM2.5'), None)\n",
    "    # if pm25_data:\n",
    "    #     return {\n",
    "    #         'date': date,\n",
    "    #         'ReportingArea': pm25_data.get('ReportingArea'),\n",
    "    #         'StateCode': pm25_data.get('StateCode'),\n",
    "    #         'Latitude': pm25_data.get('Latitude'),\n",
    "    #         'Longitude': pm25_data.get('Longitude'),\n",
    "    #         'pm25_aqi': pm25_data.get('AQI'),\n",
    "    #         'category': pm25_data.get('Category', {}).get('Number'),\n",
    "    #         'category_name': pm25_data.get('Category', {}).get('Name')\n",
    "    #     }\n",
    "    # return pm25_data#response.json()\n",
    "    try:\n",
    "        response = requests.get(base_url, params=params)\n",
    "        if response.status_code == 200:\n",
    "            data = response.json()\n",
    "            # Filter for PM2.5 data only\n",
    "            pm25_data = next((item for item in data if item.get('ParameterName') == 'PM2.5'), None)\n",
    "            if pm25_data:\n",
    "                return {\n",
    "                    'date': date,\n",
    "                    'ReportingArea': pm25_data.get('ReportingArea'),\n",
    "                    'StateCode': pm25_data.get('StateCode'),\n",
    "                    'Latitude': pm25_data.get('Latitude'),\n",
    "                    'Longitude': pm25_data.get('Longitude'),\n",
    "                    'pm25_aqi': pm25_data.get('AQI'),\n",
    "                    'category': pm25_data.get('Category', {}).get('Number'),\n",
    "                    'category_name': pm25_data.get('Category', {}).get('Name')\n",
    "                }\n",
    "        return None\n",
    "    except Exception as e:\n",
    "        print(f\"Error for {zip_code} on {date}: {str(e)}\")\n",
    "        return None\n",
    "\n",
    "\n",
    "get_daily_aqi('10001', '2025-03-22T00-0000')"
   ]
  },
  {
   "cell_type": "code",
   "execution_count": 4,
   "metadata": {},
   "outputs": [],
   "source": [
    "def get_air_json(city_name, AIR_QUALITY_API_KEY):\n",
    "    return requests.get(f'https://api.waqi.info/feed/{city_name}/?token={AQOPEN_API_KEY}').json()['data']"
   ]
  },
  {
   "cell_type": "code",
   "execution_count": 6,
   "metadata": {},
   "outputs": [],
   "source": [
    "def get_air_quality_data(city_name):\n",
    "    # AIR_QUALITY_API_KEY = os.getenv('AIR_QUALITY_API_KEY')\n",
    "    json = get_air_json(city_name, AQOPEN_API_KEY)\n",
    "    print(json)\n",
    "    iaqi = json['iaqi']\n",
    "    forecast = json['forecast']['daily']\n",
    "    \n",
    "    params = ['pm10', 'pm25', 'no2', 'so2', 'co', 'o3']\n",
    "    for param in params:\n",
    "        if param not in iaqi: # if the parameter is not present in the data, add a column with NaN values\n",
    "            iaqi[param] = {\"v\": np.nan}\n",
    "    return [\n",
    "        city_name,\n",
    "        json['aqi'],                 # AQI\n",
    "        json['time']['s'][:10],      # Date\n",
    "        iaqi['pm25']['v'],\n",
    "        iaqi['pm10']['v'],\n",
    "        iaqi['no2']['v'],\n",
    "        iaqi['so2']['v'],\n",
    "        iaqi['co']['v'],\n",
    "        iaqi['o3']['v']\n",
    "    ]"
   ]
  },
  {
   "cell_type": "code",
   "execution_count": 7,
   "metadata": {},
   "outputs": [
    {
     "name": "stdout",
     "output_type": "stream",
     "text": [
      "{'aqi': 21, 'idx': 243, 'attributions': [{'url': 'http://www.aqmd.gov/', 'name': 'South Coast Air Quality Management District (AQMD)', 'logo': 'USA-SouthCoastAQMD.png'}, {'url': 'http://www.airnow.gov/', 'name': 'Air Now - US EPA'}, {'url': 'http://www.arb.ca.gov/', 'name': 'CARB - California Air Resources Board', 'logo': 'USA-CAARB.png'}, {'url': 'https://waqi.info/', 'name': 'World Air Quality Index Project'}], 'city': {'geo': [34.06653, -118.22676], 'name': 'Los Angeles-North Main Street', 'url': 'https://aqicn.org/city/losangeles/los-angeles-north-main-street', 'location': ''}, 'dominentpol': 'o3', 'iaqi': {'co': {'v': 2.3}, 'h': {'v': 87}, 'no2': {'v': 9.9}, 'o3': {'v': 20.8}, 'p': {'v': 1018.7}, 'pm10': {'v': 3}, 'pm25': {'v': 12}, 'so2': {'v': 0.2}, 't': {'v': 12.2}, 'w': {'v': 0.1}, 'wg': {'v': 0.3}}, 'time': {'s': '2025-03-31 11:00:00', 'tz': '-07:00', 'v': 1743418800, 'iso': '2025-03-31T11:00:00-07:00'}, 'forecast': {'daily': {'o3': [{'avg': 1, 'day': '2025-03-28', 'max': 1, 'min': 1}, {'avg': 14, 'day': '2025-03-29', 'max': 28, 'min': 2}, {'avg': 12, 'day': '2025-03-30', 'max': 23, 'min': 8}, {'avg': 9, 'day': '2025-03-31', 'max': 14, 'min': 4}, {'avg': 15, 'day': '2025-04-01', 'max': 24, 'min': 2}, {'avg': 14, 'day': '2025-04-02', 'max': 24, 'min': 4}, {'avg': 15, 'day': '2025-04-03', 'max': 26, 'min': 3}, {'avg': 7, 'day': '2025-04-04', 'max': 30, 'min': 1}], 'pm10': [{'avg': 28, 'day': '2025-03-28', 'max': 28, 'min': 28}, {'avg': 16, 'day': '2025-03-29', 'max': 29, 'min': 10}, {'avg': 15, 'day': '2025-03-30', 'max': 24, 'min': 4}, {'avg': 9, 'day': '2025-03-31', 'max': 13, 'min': 5}, {'avg': 6, 'day': '2025-04-01', 'max': 16, 'min': 2}, {'avg': 8, 'day': '2025-04-02', 'max': 21, 'min': 3}, {'avg': 14, 'day': '2025-04-03', 'max': 28, 'min': 5}, {'avg': 28, 'day': '2025-04-04', 'max': 35, 'min': 13}], 'pm25': [{'avg': 61, 'day': '2025-03-28', 'max': 61, 'min': 61}, {'avg': 38, 'day': '2025-03-29', 'max': 64, 'min': 23}, {'avg': 37, 'day': '2025-03-30', 'max': 60, 'min': 7}, {'avg': 23, 'day': '2025-03-31', 'max': 37, 'min': 12}, {'avg': 12, 'day': '2025-04-01', 'max': 48, 'min': 4}, {'avg': 17, 'day': '2025-04-02', 'max': 51, 'min': 4}, {'avg': 35, 'day': '2025-04-03', 'max': 70, 'min': 10}, {'avg': 68, 'day': '2025-04-04', 'max': 80, 'min': 39}], 'uvi': [{'avg': 0, 'day': '2025-03-28', 'max': 0, 'min': 0}, {'avg': 2, 'day': '2025-03-29', 'max': 7, 'min': 0}, {'avg': 1, 'day': '2025-03-30', 'max': 3, 'min': 0}, {'avg': 0, 'day': '2025-03-31', 'max': 3, 'min': 0}, {'avg': 1, 'day': '2025-04-01', 'max': 5, 'min': 0}, {'avg': 1, 'day': '2025-04-02', 'max': 6, 'min': 0}, {'avg': 1, 'day': '2025-04-03', 'max': 5, 'min': 0}, {'avg': 2, 'day': '2025-04-04', 'max': 7, 'min': 0}]}}, 'debug': {'sync': '2025-04-01T04:19:12+09:00'}}\n"
     ]
    },
    {
     "data": {
      "text/plain": [
       "['los angeles', 21, '2025-03-31', 12, 3, 9.9, 0.2, 2.3, 20.8]"
      ]
     },
     "execution_count": 7,
     "metadata": {},
     "output_type": "execute_result"
    }
   ],
   "source": [
    "get_air_quality_data('los angeles')#, AQOPEN_API_KEY)"
   ]
  },
  {
   "cell_type": "code",
   "execution_count": null,
   "metadata": {},
   "outputs": [],
   "source": [
    "from datetime import datetime\n",
    "\n",
    "\n",
    "def get_air_quality_df(data):\n",
    "    col_names = [\n",
    "        'city',\n",
    "        'aqi',\n",
    "        'date',\n",
    "        'pm25',\n",
    "        'pm10',\n",
    "        'no2',\n",
    "        'so2',\n",
    "        'co',\n",
    "        'o3'\n",
    "    ]\n",
    "\n",
    "    new_data = pd.DataFrame(\n",
    "        data,\n",
    "        columns=col_names\n",
    "    )\n",
    "    new_data.date = new_data.date.apply(timestamp_2_time)\n",
    "\n",
    "    return new_data\n",
    "\n",
    "def timestamp_2_time(x):\n",
    "    dt_obj = datetime.strptime(str(x), '%Y-%m-%d')\n",
    "    dt_obj = dt_obj.timestamp() * 1000\n",
    "    return int(dt_obj)"
   ]
  },
  {
   "cell_type": "code",
   "execution_count": null,
   "metadata": {},
   "outputs": [],
   "source": [
    "df = get_air_quality_df([get_air_quality_data(city) for city in cities])"
   ]
  },
  {
   "cell_type": "code",
   "execution_count": null,
   "metadata": {},
   "outputs": [
    {
     "data": {
      "text/html": [
       "<div>\n",
       "<style scoped>\n",
       "    .dataframe tbody tr th:only-of-type {\n",
       "        vertical-align: middle;\n",
       "    }\n",
       "\n",
       "    .dataframe tbody tr th {\n",
       "        vertical-align: top;\n",
       "    }\n",
       "\n",
       "    .dataframe thead th {\n",
       "        text-align: right;\n",
       "    }\n",
       "</style>\n",
       "<table border=\"1\" class=\"dataframe\">\n",
       "  <thead>\n",
       "    <tr style=\"text-align: right;\">\n",
       "      <th></th>\n",
       "      <th>city</th>\n",
       "      <th>aqi</th>\n",
       "      <th>date</th>\n",
       "      <th>pm25</th>\n",
       "      <th>pm10</th>\n",
       "      <th>no2</th>\n",
       "      <th>so2</th>\n",
       "      <th>co</th>\n",
       "      <th>o3</th>\n",
       "    </tr>\n",
       "  </thead>\n",
       "  <tbody>\n",
       "    <tr>\n",
       "      <th>0</th>\n",
       "      <td>Brooklyn</td>\n",
       "      <td>53</td>\n",
       "      <td>1741924800000</td>\n",
       "      <td>53</td>\n",
       "      <td>NaN</td>\n",
       "      <td>NaN</td>\n",
       "      <td>NaN</td>\n",
       "      <td>NaN</td>\n",
       "      <td>NaN</td>\n",
       "    </tr>\n",
       "    <tr>\n",
       "      <th>1</th>\n",
       "      <td>Honolulu</td>\n",
       "      <td>37</td>\n",
       "      <td>1741924800000</td>\n",
       "      <td>37</td>\n",
       "      <td>24.0</td>\n",
       "      <td>NaN</td>\n",
       "      <td>0.1</td>\n",
       "      <td>0.9</td>\n",
       "      <td>NaN</td>\n",
       "    </tr>\n",
       "    <tr>\n",
       "      <th>2</th>\n",
       "      <td>Boston</td>\n",
       "      <td>31</td>\n",
       "      <td>1741924800000</td>\n",
       "      <td>31</td>\n",
       "      <td>19.0</td>\n",
       "      <td>2.8</td>\n",
       "      <td>0.3</td>\n",
       "      <td>3.4</td>\n",
       "      <td>28.1</td>\n",
       "    </tr>\n",
       "    <tr>\n",
       "      <th>3</th>\n",
       "      <td>Nashville</td>\n",
       "      <td>51</td>\n",
       "      <td>1741924800000</td>\n",
       "      <td>51</td>\n",
       "      <td>35.0</td>\n",
       "      <td>NaN</td>\n",
       "      <td>NaN</td>\n",
       "      <td>NaN</td>\n",
       "      <td>NaN</td>\n",
       "    </tr>\n",
       "    <tr>\n",
       "      <th>4</th>\n",
       "      <td>Seattle</td>\n",
       "      <td>13</td>\n",
       "      <td>1741924800000</td>\n",
       "      <td>13</td>\n",
       "      <td>NaN</td>\n",
       "      <td>12.9</td>\n",
       "      <td>NaN</td>\n",
       "      <td>NaN</td>\n",
       "      <td>NaN</td>\n",
       "    </tr>\n",
       "    <tr>\n",
       "      <th>5</th>\n",
       "      <td>Albuquerque</td>\n",
       "      <td>84</td>\n",
       "      <td>1741924800000</td>\n",
       "      <td>26</td>\n",
       "      <td>84.0</td>\n",
       "      <td>4.7</td>\n",
       "      <td>NaN</td>\n",
       "      <td>1.2</td>\n",
       "      <td>32.8</td>\n",
       "    </tr>\n",
       "    <tr>\n",
       "      <th>6</th>\n",
       "      <td>Denver</td>\n",
       "      <td>17</td>\n",
       "      <td>1741924800000</td>\n",
       "      <td>13</td>\n",
       "      <td>10.0</td>\n",
       "      <td>4.6</td>\n",
       "      <td>0.6</td>\n",
       "      <td>3.2</td>\n",
       "      <td>16.7</td>\n",
       "    </tr>\n",
       "    <tr>\n",
       "      <th>7</th>\n",
       "      <td>Miami</td>\n",
       "      <td>45</td>\n",
       "      <td>1741924800000</td>\n",
       "      <td>45</td>\n",
       "      <td>31.0</td>\n",
       "      <td>NaN</td>\n",
       "      <td>0.3</td>\n",
       "      <td>2.8</td>\n",
       "      <td>13.0</td>\n",
       "    </tr>\n",
       "    <tr>\n",
       "      <th>8</th>\n",
       "      <td>Austin</td>\n",
       "      <td>65</td>\n",
       "      <td>1741924800000</td>\n",
       "      <td>65</td>\n",
       "      <td>NaN</td>\n",
       "      <td>2.2</td>\n",
       "      <td>1.3</td>\n",
       "      <td>NaN</td>\n",
       "      <td>24.1</td>\n",
       "    </tr>\n",
       "    <tr>\n",
       "      <th>9</th>\n",
       "      <td>Atlanta</td>\n",
       "      <td>36</td>\n",
       "      <td>1741924800000</td>\n",
       "      <td>36</td>\n",
       "      <td>NaN</td>\n",
       "      <td>NaN</td>\n",
       "      <td>1.0</td>\n",
       "      <td>NaN</td>\n",
       "      <td>28.9</td>\n",
       "    </tr>\n",
       "    <tr>\n",
       "      <th>10</th>\n",
       "      <td>Charlotte</td>\n",
       "      <td>67</td>\n",
       "      <td>1741924800000</td>\n",
       "      <td>67</td>\n",
       "      <td>NaN</td>\n",
       "      <td>NaN</td>\n",
       "      <td>NaN</td>\n",
       "      <td>NaN</td>\n",
       "      <td>NaN</td>\n",
       "    </tr>\n",
       "  </tbody>\n",
       "</table>\n",
       "</div>"
      ],
      "text/plain": [
       "           city  aqi           date  pm25  pm10   no2  so2   co    o3\n",
       "0      Brooklyn   53  1741924800000    53   NaN   NaN  NaN  NaN   NaN\n",
       "1      Honolulu   37  1741924800000    37  24.0   NaN  0.1  0.9   NaN\n",
       "2        Boston   31  1741924800000    31  19.0   2.8  0.3  3.4  28.1\n",
       "3     Nashville   51  1741924800000    51  35.0   NaN  NaN  NaN   NaN\n",
       "4       Seattle   13  1741924800000    13   NaN  12.9  NaN  NaN   NaN\n",
       "5   Albuquerque   84  1741924800000    26  84.0   4.7  NaN  1.2  32.8\n",
       "6        Denver   17  1741924800000    13  10.0   4.6  0.6  3.2  16.7\n",
       "7         Miami   45  1741924800000    45  31.0   NaN  0.3  2.8  13.0\n",
       "8        Austin   65  1741924800000    65   NaN   2.2  1.3  NaN  24.1\n",
       "9       Atlanta   36  1741924800000    36   NaN   NaN  1.0  NaN  28.9\n",
       "10    Charlotte   67  1741924800000    67   NaN   NaN  NaN  NaN   NaN"
      ]
     },
     "metadata": {},
     "output_type": "display_data"
    }
   ],
   "source": [
    "df"
   ]
  },
  {
   "cell_type": "code",
   "execution_count": null,
   "metadata": {},
   "outputs": [],
   "source": [
    "# def get_air_json(city_name, AIR_QUALITY_API_KEY):\n",
    "#     return requests.get(f'https://api.waqi.info/feed/{city_name}/?token={AIR_QUALITY_API_KEY}').json()['data']"
   ]
  }
 ],
 "metadata": {
  "kernelspec": {
   "display_name": ".venv",
   "language": "python",
   "name": "python3"
  },
  "language_info": {
   "codemirror_mode": {
    "name": "ipython",
    "version": 3
   },
   "file_extension": ".py",
   "mimetype": "text/x-python",
   "name": "python",
   "nbconvert_exporter": "python",
   "pygments_lexer": "ipython3",
   "version": "3.10.6"
  }
 },
 "nbformat": 4,
 "nbformat_minor": 2
}
